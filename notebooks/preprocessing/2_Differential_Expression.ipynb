{
 "cells": [
  {
   "cell_type": "code",
   "execution_count": null,
   "id": "62a6cf51",
   "metadata": {},
   "outputs": [],
   "source": [
    "library(tidyverse)\n",
    "library(edgeR)\n",
    "library(stringr)"
   ]
  },
  {
   "cell_type": "code",
   "execution_count": 54,
   "id": "389a001c",
   "metadata": {},
   "outputs": [],
   "source": [
    "setwd(\"/data/jlu/Rhbdf2_Analysis/notebooks/\")\n",
    "geneID_info <- read.delim(\"./preprocessing/eID_sym_name.csv\", header=T, sep=',')\n",
    "geneID_info <- geneID_info[,c(2,3,5)]\n",
    "colnames(geneID_info) <- c(\"ensembl_gene_id\",\"symbol\",\"name\")\n",
    "# Remove duplicated gene symbols. Since some gene symbols are matched to multiple ensemble_id\n",
    "geneID_info <- geneID_info[!duplicated(geneID_info$symbol),] "
   ]
  },
  {
   "cell_type": "code",
   "execution_count": null,
   "id": "bae5b3fa",
   "metadata": {},
   "outputs": [],
   "source": [
    "#Load in expected counts table\n",
    "Blobel_expectedCountsTable <- read.delim('./preprocessing/Blobel_counts_CompiledExpectedCounts_allGene.csv', sep = ',', \n",
    "          row.names = 1)\n",
    "meta_ST3 <- data.frame(FileName=c(\"No1\",\"No2\",\"No3\",\"ST1\",\"ST2\",\"ST3\"),\n",
    "                       Subject=c(\"A\",\"B\",\"C\",\"A\",\"B\",\"C\"),\n",
    "                       Treatment=c(0,0,0,1,1,1))"
   ]
  },
  {
   "cell_type": "code",
   "execution_count": 33,
   "id": "b0b02d39",
   "metadata": {},
   "outputs": [],
   "source": [
    "# Generate countable for individual experiment \n",
    "Blobel_countsTable_WTvsiRhom2 <- round(data.frame(\n",
    "    No1=Blobel_expectedCountsTable$WT1_S1_L001, \n",
    "    No2=Blobel_expectedCountsTable$WT2_S2_L001, \n",
    "    No3=Blobel_expectedCountsTable$WT3_S3_L001, \n",
    "    St1=Blobel_expectedCountsTable$KO1_S4_L001,\n",
    "    St2=Blobel_expectedCountsTable$KO2_S5_L001,\n",
    "    St3=Blobel_expectedCountsTable$KO3_S6_L001,\n",
    "    row.names=rownames(Blobel_expectedCountsTable)\n",
    "    ))\n"
   ]
  },
  {
   "cell_type": "code",
   "execution_count": 65,
   "id": "4b7fb9c7",
   "metadata": {},
   "outputs": [],
   "source": [
    "# Define DE functions\n",
    "DiffExp <- function (targets, countsTable) {\n",
    "    Treat <- factor(targets$Treatment);Subject <- factor(targets$Subject);design <- model.matrix(~Subject+Treat)\n",
    "    e.litter <- DGEList(counts=countsTable)\n",
    "    e.litter <- estimateGLMCommonDisp(e.litter,design)\n",
    "    e.litter <- estimateGLMTrendedDisp(e.litter,design)\n",
    "    e.litter <- estimateGLMTagwiseDisp(e.litter,design)\n",
    "    fit <- glmFit(e.litter, design);lrt <- glmLRT(fit);diff <- topTags(lrt,n=dim(lrt)[1])$table\n",
    "    result <- merge(diff,countsTable,by=0,sort=F)\n",
    "    colnames(result)[1] <- \"ensembl_gene_id\"\n",
    "    return(result)\n",
    "}\n",
    "\n",
    "DiffExp_compile <- function(targets, countsTable) {\n",
    "    allGene_DE <- DiffExp(targets, countsTable)\n",
    "    allGene_DE <- left_join(allGene_DE, geneID_info, by = \"ensembl_gene_id\")\n",
    "    return(allGene_DE)\n",
    "}"
   ]
  },
  {
   "cell_type": "code",
   "execution_count": 66,
   "id": "c1cc5bfb",
   "metadata": {},
   "outputs": [],
   "source": [
    "DE_WTvsiRhom2 <- DiffExp_compile(meta_ST3, Blobel_countsTable_WTvsiRhom2)\n",
    "write.csv(DE_WTvsiRhom2, \"../DE_out/DE_WTvsiRhom2.csv\")"
   ]
  }
 ],
 "metadata": {
  "kernelspec": {
   "display_name": "R",
   "language": "R",
   "name": "ir"
  },
  "language_info": {
   "codemirror_mode": "r",
   "file_extension": ".r",
   "mimetype": "text/x-r-source",
   "name": "R",
   "pygments_lexer": "r",
   "version": "4.2.2"
  }
 },
 "nbformat": 4,
 "nbformat_minor": 5
}
