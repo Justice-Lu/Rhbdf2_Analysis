{
 "cells": [
  {
   "cell_type": "code",
   "execution_count": 2,
   "id": "c33bedb6",
   "metadata": {},
   "outputs": [],
   "source": [
    "import pandas as pd \n",
    "import numpy as np \n",
    "import os "
   ]
  },
  {
   "cell_type": "code",
   "execution_count": 128,
   "id": "de294b05",
   "metadata": {},
   "outputs": [],
   "source": [
    "data_path = '../RNAseq_out/Blobel-SA-14025_2023_04_18/star_rsem/'\n",
    "Blobel_files = os.listdir(data_path)\n",
    "Blobel_files = [ i for i in Blobel_files if 'genes.result' in i ]"
   ]
  },
  {
   "cell_type": "code",
   "execution_count": 137,
   "id": "3aab9293",
   "metadata": {},
   "outputs": [],
   "source": [
    "# Read in individual file's expected counts \n",
    "Blobel_df = {}\n",
    "for file in Blobel_files:\n",
    "    file_name = file.split('.')[0]\n",
    "    Blobel_df[file_name] = pd.read_table(data_path + file )\n",
    "\n",
    "# Generate a list of genes \n",
    "gene_id = []\n",
    "for i in list(Blobel_df[file_name]['gene_id']):\n",
    "    gene_id.append(i.title())\n",
    "\n",
    "counts_data = pd.DataFrame(index=gene_id)\n",
    "for file in Blobel_df: \n",
    "    counts_data[file] = list(Blobel_df[file]['expected_count'])\n",
    "\n",
    "counts_data.index = counts_data.index.str.upper()\n",
    "# counts_data.to_csv('./preprocessing/Blobel_counts_CompiledExpectedCounts_allGene.csv')"
   ]
  },
  {
   "cell_type": "code",
   "execution_count": 16,
   "id": "bf3a6640",
   "metadata": {},
   "outputs": [],
   "source": [
    "counts_data = pd.read_csv('./preprocessing/Blobel_counts_CompiledExpectedCounts_allGene.csv', index_col = 0)\n",
    "biomart = pd.read_csv(\"./preprocessing/biomart_eID_symbol.csv\", index_col = 0)\n",
    "mm_name = pd.read_csv(\"./preprocessing/mm_symbol_name.csv\", index_col = 0)"
   ]
  },
  {
   "cell_type": "code",
   "execution_count": 81,
   "id": "932be906",
   "metadata": {},
   "outputs": [],
   "source": [
    "eID = counts_data.index.values.tolist()\n",
    "eID = [i.split('.', 1)[0] for i in eID]\n",
    "eID_compile = pd.DataFrame(eID, columns = ['eID'])\n",
    "\n",
    "eID_sym_name = pd.DataFrame()\n",
    "\n",
    "for i in range(eID_compile.shape[0]):\n",
    "    eID = eID_compile.iloc[i,:].values[0]\n",
    "    if len(biomart[biomart['ensembl_gene_id'] == eID]['mgi_symbol'].values) > 0:\n",
    "        name = biomart[biomart['ensembl_gene_id'] == eID]['mgi_symbol'].values[0]\n",
    "    else:\n",
    "        name = 'no_name'\n",
    "    eID_sym_name = pd.concat([eID_sym_name, pd.DataFrame([eID, name]).transpose()], axis = 0)\n",
    "    \n",
    "eID_sym_name.columns = [\"ensembl_gene_id\",\"symbol\"]\n",
    "eID_sym_name = pd.merge(eID_sym_name, mm_name, how='left')\n",
    "eID_sym_name.to_csv('./preprocessing/eID_sym_name.csv')"
   ]
  },
  {
   "cell_type": "code",
   "execution_count": null,
   "id": "386e6bb8",
   "metadata": {},
   "outputs": [],
   "source": []
  }
 ],
 "metadata": {
  "kernelspec": {
   "display_name": "Python 3 (ipykernel)",
   "language": "python",
   "name": "python3"
  },
  "language_info": {
   "codemirror_mode": {
    "name": "ipython",
    "version": 3
   },
   "file_extension": ".py",
   "mimetype": "text/x-python",
   "name": "python",
   "nbconvert_exporter": "python",
   "pygments_lexer": "ipython3",
   "version": "3.9.7"
  }
 },
 "nbformat": 4,
 "nbformat_minor": 5
}
