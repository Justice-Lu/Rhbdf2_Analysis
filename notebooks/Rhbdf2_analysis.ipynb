{
 "cells": [
  {
   "cell_type": "code",
   "execution_count": null,
   "id": "57ccce0c",
   "metadata": {},
   "outputs": [],
   "source": [
    "import os \n",
    "import numpy as np \n",
    "import pandas as pd \n",
    "import scanpy as sc\n",
    "import anndata\n",
    "import copy\n",
    "import desc\n",
    "import matplotlib.pyplot as pl\n",
    "# following line ensures the pl plots inline \n",
    "%matplotlib inline\n",
    "import plotly.express as px\n",
    "import plotly.graph_objects as go\n",
    "\n",
    "from sklearn.metrics import mean_squared_error\n",
    "from scipy import stats"
   ]
  },
  {
   "attachments": {},
   "cell_type": "markdown",
   "id": "5740fd1d",
   "metadata": {},
   "source": [
    "The goal of this notebook is to investigate the expression of Rhbdf2 expression in OSN. <br>\n",
    "More specifically, if there is a bias in expression of Rhbdf2 in different ORs. "
   ]
  },
  {
   "cell_type": "code",
   "execution_count": null,
   "id": "32b21936",
   "metadata": {},
   "outputs": [],
   "source": [
    "adata = desc.read_h5ad('../Chaperone_Analysis/files/Tsukahara/GSE173947_home_cage_matureOSN.h5ad')"
   ]
  },
  {
   "cell_type": "code",
   "execution_count": null,
   "id": "b2ba698d",
   "metadata": {},
   "outputs": [],
   "source": [
    "# Generate meta file of top expressing Olfrs from each cell and add that into adata.obs\n",
    "meta_mOSN = pd.read_csv('../Chaperone_Analysis/files/Tsukahara/GSE173947_home_cage_metadata.csv')[['Unnamed: 0','top_Olfr']]\n",
    "meta_mOSN.rename(columns={'Unnamed: 0':'index'}, inplace=True)\n",
    "meta_mOSN = meta_mOSN.set_index('index')\n",
    "adata.obs = adata.obs.join(meta_mOSN)"
   ]
  },
  {
   "cell_type": "code",
   "execution_count": null,
   "id": "551de807",
   "metadata": {},
   "outputs": [],
   "source": [
    "sc.set_figure_params(facecolor='white', color_map = 'viridis')\n",
    "sc.pl.umap(adata, color=['Omp', 'Rhbdf2','leiden'], \n",
    "           legend_loc='on data', size=30)"
   ]
  },
  {
   "attachments": {},
   "cell_type": "markdown",
   "id": "13c29ae7",
   "metadata": {},
   "source": [
    "Since the expression of Rhbdf2 is pretty sparse and non-clustered within the mOSN population. <br> \n",
    "Seperate mOSN cells that have Rhbdf2 expression, and find differential gene expression between Rhbdf2 expressing and non-expressing population "
   ]
  },
  {
   "cell_type": "code",
   "execution_count": null,
   "id": "76d0d029",
   "metadata": {},
   "outputs": [],
   "source": [
    "adata.obs['Rhbdf2_counts'] = adata.raw.X[:, adata.raw.var_names.isin(['Rhbdf2'])]"
   ]
  },
  {
   "cell_type": "code",
   "execution_count": null,
   "id": "8b07dcdf",
   "metadata": {},
   "outputs": [],
   "source": [
    "Olfr_Rhbdf2_df = adata.obs[['top_Olfr', 'Rhbdf2_counts']]\n",
    "# Generate Olfr's osn counts, rhbdf2 sum and mean across ORs for visualization of wehre to cutoff\n",
    "n_osn = pd.Series(Olfr_Rhbdf2_df.groupby('top_Olfr').size(), name='n_osn')\n",
    "Rhbdf2_sum = Olfr_Rhbdf2_df.groupby('top_Olfr').agg(Rhbdf2_sum = ('Rhbdf2_counts', np.sum))\n",
    "Rhbdf2_mean = Olfr_Rhbdf2_df.groupby('top_Olfr').agg(Rhbdf2_mean = ('Rhbdf2_counts', np.mean))\n",
    "Olfr_Rhbdf2_df = pd.concat([n_osn, Rhbdf2_sum, Rhbdf2_mean],\n",
    "          axis=1).sort_values('Rhbdf2_sum', ascending=False)\n",
    "Olfr_Rhbdf2_df = Olfr_Rhbdf2_df.reset_index()"
   ]
  },
  {
   "cell_type": "code",
   "execution_count": null,
   "id": "66b0c341",
   "metadata": {
    "scrolled": false
   },
   "outputs": [],
   "source": [
    "fig = px.scatter(Olfr_Rhbdf2_df.melt(id_vars='top_Olfr'), \n",
    "                 x = 'top_Olfr', \n",
    "                 y = 'value', \n",
    "                 color = 'variable',\n",
    "                 title = \"Rhbdf2 expression by receptor\", \n",
    "                category_orders={\"top_Olfr\" : Olfr_Rhbdf2_df.sort_values('Rhbdf2_mean', ascending=False).top_Olfr})\n",
    "fig.show()\n",
    "\n",
    "# fig.write_html('./output/plots/Rfhbdf2_ORexpression2.html')"
   ]
  },
  {
   "attachments": {},
   "cell_type": "markdown",
   "id": "27f91e68",
   "metadata": {},
   "source": [
    "Since the expression counts of Rhbdf2 seems to be correlated to number of cells expressing the OR. We'll choose a cutoff of 20 counts of Rhbdf2 expression compare to the other cells. "
   ]
  },
  {
   "cell_type": "code",
   "execution_count": null,
   "id": "0717d0af",
   "metadata": {},
   "outputs": [],
   "source": [
    "# Add Rhbdf2 information to main adata obs \n",
    "Olfr_Rhbdf2_df = Olfr_Rhbdf2_df.set_index('top_Olfr')\n",
    "\n",
    "for Or in Olfr_Rhbdf2_df.index.unique():\n",
    "    adata.obs.loc[adata.obs.top_Olfr.str.contains(Or), \n",
    "        list(Olfr_Rhbdf2_df.columns)] = Olfr_Rhbdf2_df[Olfr_Rhbdf2_df.index == Or].values\n",
    "    \n",
    "# Olfr_Rhbdf2_df.to_csv('./output/Rhbdf2_expression.csv')"
   ]
  },
  {
   "cell_type": "code",
   "execution_count": null,
   "id": "de4197e3",
   "metadata": {},
   "outputs": [],
   "source": [
    "Olfr_Rhbdf2_df.iloc[Olfr_Rhbdf2_df.index.str.contains('Olfr910|Olfr912|Olfr1295')]"
   ]
  },
  {
   "cell_type": "code",
   "execution_count": null,
   "id": "04c008c6",
   "metadata": {},
   "outputs": [],
   "source": [
    "# Labels specific cells with Rhbdf2 counts more than 3 as a seperate cluster \n",
    "adata.obs.loc[adata.obs['Rhbdf2_counts'] < 1, 'Rhbdf2_cell' ] = \"Rhbfd2_negative_cells\"\n",
    "adata.obs.loc[adata.obs['Rhbdf2_counts'] >= 1, 'Rhbdf2_cell' ] = \"Rhbfd2_positive_cells\"\n",
    "# Labels specific OR expressin cells with different clusters\n",
    "adata.obs.loc[adata.obs['Rhbdf2_sum'] < 1, 'Rhbdf2_Olfr' ] = \"Rhbfd2_sum_Olfr < 1\"\n",
    "# adata.obs.loc[adata.obs['Rhbdf2_sum'] >= 10, 'Rhbdf2_Olfr' ] = \"Rhbfd2_sum_Olfr < 20\"\n",
    "adata.obs.loc[adata.obs['Rhbdf2_sum'] >= 1, 'Rhbdf2_Olfr' ] = \"Rhbfd2_sum_Olfr >= 1\""
   ]
  },
  {
   "cell_type": "code",
   "execution_count": null,
   "id": "6628f498",
   "metadata": {
    "scrolled": true
   },
   "outputs": [],
   "source": [
    "sc.tl.rank_genes_groups(adata, 'Rhbdf2_cell', method='wilcoxon')\n",
    "sc.pl.rank_genes_groups(adata, n_genes=25, sharey=False)"
   ]
  },
  {
   "cell_type": "code",
   "execution_count": null,
   "id": "0ce002be",
   "metadata": {},
   "outputs": [],
   "source": [
    "result = adata.uns['rank_genes_groups']\n",
    "groups = result['names'].dtype.names\n",
    "pd.DataFrame(\n",
    "    {group + '_' + key: result[key][group]\n",
    "    for group in groups for key in ['names', 'pvals']}).to_csv('./Rhbdf2_byExpression.csv')"
   ]
  },
  {
   "cell_type": "code",
   "execution_count": null,
   "id": "0c3b5879",
   "metadata": {},
   "outputs": [],
   "source": [
    "sc.tl.rank_genes_groups(adata, 'Rhbdf2_Olfr', method='wilcoxon')\n",
    "sc.pl.rank_genes_groups(adata, n_genes=25, sharey=False)"
   ]
  },
  {
   "cell_type": "code",
   "execution_count": null,
   "id": "44363b8f",
   "metadata": {},
   "outputs": [],
   "source": [
    "result = adata.uns['rank_genes_groups']\n",
    "groups = result['names'].dtype.names\n",
    "pd.DataFrame(\n",
    "    {group + '_' + key: result[key][group]\n",
    "    for group in groups for key in ['names', 'pvals']}).to_csv('./Rhbdf2_byOlfr.csv')"
   ]
  },
  {
   "attachments": {},
   "cell_type": "markdown",
   "id": "13d5b321",
   "metadata": {},
   "source": [
    "Since S100A5 and Rhbdf2 seems to be negatively correlated with each other. Plot their expression counts for individual cells to visualize. "
   ]
  },
  {
   "cell_type": "code",
   "execution_count": null,
   "id": "12c0305c",
   "metadata": {},
   "outputs": [],
   "source": [
    "# Find the interested genes in contained in adata. \n",
    "# Additionally spits out the order in which the genes are stored in matrix \n",
    "interested_genes = ['Rhbdf2', 'S100a5', 'Lrrc3b', 'Kirrel2','Hbegf', 'Areg'\n",
    "                   , 'Adam17', 'Tgfa', 'Epgn', 'Cx3cl1', 'Bcl2']\n",
    "interested_genes = list(adata.raw.var_names[adata.raw.var_names.isin(interested_genes)])\n",
    "count_df = pd.DataFrame(adata.raw.X[:, adata.raw.var_names.isin(interested_genes)], \n",
    "            columns=[i+\"_counts\" for i in interested_genes])\n",
    "count_df.insert(0, 'Olfr', adata.obs['top_Olfr'].values)\n",
    "# Save Rhbdf2 expression file \n",
    "count_df.to_csv('./output/Interested_gene_counts.csv')\n",
    "count_df = pd.read_csv('./output/Interested_gene_counts.csv', index_col=0)"
   ]
  },
  {
   "cell_type": "code",
   "execution_count": null,
   "id": "dcd3635c",
   "metadata": {},
   "outputs": [],
   "source": [
    "# This line simply moves 'Rhbdf2' to the beginning of the list for plotting visual \n",
    "interested_genes.insert(0, interested_genes.pop(interested_genes.index('Rhbdf2')))\n",
    "\n",
    "sc.set_figure_params(facecolor='white', color_map = 'viridis')\n",
    "sc.pl.umap(adata, color=interested_genes,\n",
    "           legend_loc='on data', size=30)"
   ]
  },
  {
   "cell_type": "code",
   "execution_count": null,
   "id": "47c3da9f",
   "metadata": {},
   "outputs": [],
   "source": [
    "fig = px.scatter(count_df, \n",
    "                 x = 'Rhbdf2_counts', \n",
    "                 y = 'S100a5_counts', \n",
    "                color='Olfr')\n",
    "fig.show()\n",
    "# fig.write_html('./output/Rhbdf2_S100a5_correlation.html')"
   ]
  },
  {
   "attachments": {},
   "cell_type": "markdown",
   "id": "ab639c5a",
   "metadata": {},
   "source": [
    "Bins Rhbdf2 counts into box groups. "
   ]
  },
  {
   "cell_type": "code",
   "execution_count": null,
   "id": "08a78306",
   "metadata": {},
   "outputs": [],
   "source": [
    "count_df['Rhbdf2_box_groups'] = count_df['Rhbdf2_counts'].apply(int).apply(str)\n",
    "count_df.loc[count_df['Rhbdf2_box_groups'].str.contains(\"3|4|5\"), 'Rhbdf2_box_groups'] = \"3+\"\n",
    "\n",
    "count_df['Rhbdf2_present'] = count_df['Rhbdf2_counts'].apply(int).apply(str)\n",
    "count_df.loc[count_df['Rhbdf2_present'].str.contains(\"1|2|3|4|5\"), 'Rhbdf2_present'] = \"1+\""
   ]
  },
  {
   "cell_type": "code",
   "execution_count": null,
   "id": "2f8746a6",
   "metadata": {},
   "outputs": [],
   "source": [
    " # Quick plot to see how the other interested genes correslate with Rhbdf2\n",
    "y_column = list(count_df.columns[count_df.columns.str.contains('_counts')].drop(['Rhbdf2_counts']))\n",
    "plot_df = pd.melt(count_df, id_vars=['Olfr','Rhbdf2_present'], value_vars=y_column)\n",
    "\n",
    "fig = px.box(plot_df, \n",
    "             x = 'variable', \n",
    "             y = 'value', \n",
    "             color = 'Rhbdf2_present',\n",
    "             notched = True,\n",
    "#              points='all',\n",
    "             title = \"Relative Expression of genes to presence of Rhbdf2\"\n",
    "            )\n",
    "fig.update_layout(\n",
    "        margin=dict(\n",
    "            l=50, r=50, b=100, t=100,pad=10\n",
    "        ),\n",
    "        template='plotly_white'\n",
    "    )\n",
    "fig.show()\n",
    "# fig.write_html('./output/plots/Rhbdf2_box.html')"
   ]
  },
  {
   "cell_type": "code",
   "execution_count": null,
   "id": "cde8b564",
   "metadata": {},
   "outputs": [],
   "source": [
    " # Quick plot to see how the other interested genes correslate with Rhbdf2\n",
    "y_column = list(count_df.columns[count_df.columns.str.contains('_counts')].drop(['Rhbdf2_counts']))\n",
    "plot_df = pd.melt(count_df, id_vars=['Olfr','Rhbdf2_box_groups'], value_vars=y_column)\n",
    "\n",
    "fig = px.box(plot_df, \n",
    "             x = 'variable', \n",
    "             y = 'value', \n",
    "             color = 'Rhbdf2_box_groups',\n",
    "             notched = True,\n",
    "#              points='all',\n",
    "             title = \"Relative Expression of genes to Rhbdf2\"\n",
    "            )\n",
    "fig.update_layout(\n",
    "        margin=dict(\n",
    "            l=50, r=50, b=100, t=100,pad=10\n",
    "        ),\n",
    "        template='plotly_white'\n",
    "    )\n",
    "fig.show()\n",
    "fig.write_html('./output/plots/Rhbdf2_grouped_box.html')"
   ]
  },
  {
   "attachments": {},
   "cell_type": "markdown",
   "id": "8f6d347f",
   "metadata": {},
   "source": [
    "Transforms count dataframe into log data frame and save. "
   ]
  },
  {
   "cell_type": "code",
   "execution_count": null,
   "id": "9acf9714",
   "metadata": {},
   "outputs": [],
   "source": [
    "# Log transform counts\n",
    "\n",
    "log1p_df = pd.DataFrame(count_df[['Olfr', 'Rhbdf2_box_groups', 'Rhbdf2_present']])\n",
    "\n",
    "for i in list(count_df.columns[count_df.columns.str.contains('_counts')].drop(['Rhbdf2_counts'])):\n",
    "    log1p_df[i.split('_')[0]+'_log1p'] = np.log1p(count_df[i])\n",
    "# Replace -inf values to 0\n",
    "# count_df.loc[count_df['log(S100a5_counts)'] == -np.inf,'log(S100a5_counts)'] = 0\n",
    "\n",
    "# Save count_df \n",
    "# log1p_df.to_csv('./Interested_gene_log1p.csv')"
   ]
  },
  {
   "cell_type": "code",
   "execution_count": null,
   "id": "e1769f4f",
   "metadata": {},
   "outputs": [],
   "source": [
    " # Quick plot to see how the other interested genes correslate with Rhbdf2\n",
    "y_column = list(log1p_df.columns[log1p_df.columns.str.contains('_log1p')])\n",
    "plot_df = pd.melt(log1p_df, id_vars=['Olfr','Rhbdf2_present'], value_vars=y_column)\n",
    "\n",
    "fig = px.box(plot_df, \n",
    "             x = 'variable', \n",
    "             y = 'value', \n",
    "             color = 'Rhbdf2_present',\n",
    "             notched = True,\n",
    "#              points='all',\n",
    "             animation_group='variable',\n",
    "#              boxmode='group',\n",
    "             title = \"log1p Expression of genes to presence of Rhbdf2\"\n",
    "            )\n",
    "fig.update_layout(\n",
    "        margin=dict(\n",
    "            l=50, r=50, b=100, t=100,pad=10\n",
    "        ),\n",
    "        template='plotly_white'\n",
    "    )\n",
    "fig.show()\n",
    "fig.write_html('./output/plots/Rhbdf2_log1p_box.html')"
   ]
  },
  {
   "cell_type": "code",
   "execution_count": null,
   "id": "00f15a21",
   "metadata": {},
   "outputs": [],
   "source": [
    " # Quick plot to see how the other interested genes correslate with Rhbdf2\n",
    "y_column = list(log1p_df.columns[log1p_df.columns.str.contains('_log1p')])\n",
    "plot_df = pd.melt(log1p_df, id_vars=['Olfr','Rhbdf2_box_groups'], value_vars=y_column)\n",
    "\n",
    "fig = px.box(plot_df, \n",
    "             x = 'variable', \n",
    "             y = 'value', \n",
    "             color = 'Rhbdf2_box_groups',\n",
    "             notched = True,\n",
    "#              points='all',\n",
    "             animation_group='variable',\n",
    "#              boxmode='group',\n",
    "             title = \"log1p Expression of genes to Rhbdf2\"\n",
    "            )\n",
    "fig.update_layout(\n",
    "        margin=dict(\n",
    "            l=50, r=50, b=100, t=100,pad=10\n",
    "        ),\n",
    "        template='plotly_white'\n",
    "    )\n",
    "fig.show()\n",
    "fig.write_html('./output/plots/Rhbdf2_grouped_log1p_box.html')"
   ]
  },
  {
   "cell_type": "code",
   "execution_count": null,
   "id": "36a62d44",
   "metadata": {},
   "outputs": [],
   "source": [
    "for i in list(log1p_df.columns[log1p_df.columns.str.contains('_log1p')]):\n",
    "    fig = px.box(log1p_df, \n",
    "                 x = 'Rhbdf2_box_groups', \n",
    "                 y = i, \n",
    "                 color = 'Rhbdf2_box_groups',\n",
    "                 notched = True,\n",
    "                 title = \"log1p Expression of Rhbdf2 and \" + i.split('_')[0]\n",
    "                )\n",
    "    fig = add_p_value_annotation(fig, [[0,1], [0,2], [0,3]])\n",
    "#     fig = add_p_value_annotation(fig, [[0,1]])\n",
    "    fig.update_layout(\n",
    "        autosize=False,\n",
    "        width=500,\n",
    "        height=400,\n",
    "        margin=dict(\n",
    "            l=50,\n",
    "            r=50,\n",
    "            b=100,\n",
    "            t=100,\n",
    "            pad=10\n",
    "        ),\n",
    "    #     paper_bgcolor='rgba(0,0,0,0)',\n",
    "    #     plot_bgcolor='rgba(0,0,0,0)',\n",
    "        template='plotly_white'\n",
    "    )\n",
    "    fig.show()\n",
    "    fig.write_html('./output/plots/Individual_box/Rhbdf2_grouped_' + i.split('_')[0] + '.html')"
   ]
  },
  {
   "cell_type": "code",
   "execution_count": null,
   "id": "0fb972b3",
   "metadata": {},
   "outputs": [],
   "source": []
  },
  {
   "cell_type": "code",
   "execution_count": null,
   "id": "c1b7e213",
   "metadata": {},
   "outputs": [],
   "source": []
  },
  {
   "cell_type": "code",
   "execution_count": null,
   "id": "dbc3f056",
   "metadata": {},
   "outputs": [],
   "source": []
  },
  {
   "cell_type": "code",
   "execution_count": null,
   "id": "f01b54be",
   "metadata": {},
   "outputs": [],
   "source": [
    "# Does t-test to see significance between box groups \n",
    "\n",
    "import itertools\n",
    "\n",
    "box_groups = count_df['Rhbdf2_box_groups'].unique()\n",
    "# Generate all the combinations of two groups\n",
    "combinations = itertools.combinations(box_groups, 2)\n",
    "# for combination in combinations:\n",
    "#     print(combination)\n",
    "\n",
    "# Initialise a list of combinations of groups that are significantly different\n",
    "significant_combinations = []\n",
    "for combination in combinations:\n",
    "    data1 = count_df[count_df['Rhbdf2_box_groups'].isin([combination[0]])]['log1p(S100a5_counts)']\n",
    "    data2 = count_df[count_df['Rhbdf2_box_groups'].isin([combination[1]])]['log1p(S100a5_counts)']\n",
    "    # Significance\n",
    "    U, p = stats.mannwhitneyu(data1, data2, alternative='two-sided')\n",
    "    if p < 0.05:\n",
    "        significant_combinations.append([combination, p])\n",
    "        \n",
    "significant_combinations"
   ]
  },
  {
   "cell_type": "code",
   "execution_count": null,
   "id": "f5f4f20e",
   "metadata": {},
   "outputs": [],
   "source": []
  },
  {
   "cell_type": "code",
   "execution_count": null,
   "id": "2f7336d9",
   "metadata": {},
   "outputs": [],
   "source": []
  },
  {
   "cell_type": "code",
   "execution_count": null,
   "id": "6aaa3162",
   "metadata": {},
   "outputs": [],
   "source": [
    "def add_p_value_annotation(fig, array_columns, subplot=None, _format=dict(interline=0.07, text_height=1.07, color='black')):\n",
    "    ''' Adds notations giving the p-value between two box plot data (t-test two-sided comparison)\n",
    "    \n",
    "    Parameters:\n",
    "    ----------\n",
    "    fig: figure\n",
    "        plotly boxplot figure\n",
    "    array_columns: np.array\n",
    "        array of which columns to compare \n",
    "        e.g.: [[0,1], [1,2]] compares column 0 with 1 and 1 with 2\n",
    "    subplot: None or int\n",
    "        specifies if the figures has subplots and what subplot to add the notation to\n",
    "    _format: dict\n",
    "        format characteristics for the lines\n",
    "\n",
    "    Returns:\n",
    "    -------\n",
    "    fig: figure\n",
    "        figure with the added notation\n",
    "    '''\n",
    "    # Specify in what y_range to plot for each pair of columns\n",
    "    y_range = np.zeros([len(array_columns), 2])\n",
    "    for i in range(len(array_columns)):\n",
    "        y_range[i] = [1.01+i*_format['interline'], 1.02+i*_format['interline']]\n",
    "\n",
    "    # Get values from figure\n",
    "    fig_dict = fig.to_dict()\n",
    "\n",
    "    # Get indices if working with subplots\n",
    "    if subplot:\n",
    "        if subplot == 1:\n",
    "            subplot_str = ''\n",
    "        else:\n",
    "            subplot_str =str(subplot)\n",
    "        indices = [] #Change the box index to the indices of the data for that subplot\n",
    "        for index, data in enumerate(fig_dict['data']):\n",
    "            #print(index, data['xaxis'], 'x' + subplot_str)\n",
    "            if data['xaxis'] == 'x' + subplot_str:\n",
    "                indices = np.append(indices, index)\n",
    "        indices = [int(i) for i in indices]\n",
    "        print((indices))\n",
    "    else:\n",
    "        subplot_str = ''\n",
    "\n",
    "    # Print the p-values\n",
    "    for index, column_pair in enumerate(array_columns):\n",
    "        if subplot:\n",
    "            data_pair = [indices[column_pair[0]], indices[column_pair[1]]]\n",
    "        else:\n",
    "            data_pair = column_pair\n",
    "\n",
    "        # Mare sure it is selecting the data and subplot you want\n",
    "        #print('0:', fig_dict['data'][data_pair[0]]['name'], fig_dict['data'][data_pair[0]]['xaxis'])\n",
    "        #print('1:', fig_dict['data'][data_pair[1]]['name'], fig_dict['data'][data_pair[1]]['xaxis'])\n",
    "\n",
    "        # Get the p-value\n",
    "        pvalue = stats.ttest_ind(\n",
    "            fig_dict['data'][data_pair[0]]['y'],\n",
    "            fig_dict['data'][data_pair[1]]['y'],\n",
    "            equal_var=False,\n",
    "        )[1]\n",
    "        if pvalue >= 0.05:\n",
    "            symbol = 'ns'\n",
    "        elif pvalue >= 0.01: \n",
    "            symbol = '*'\n",
    "        elif pvalue >= 0.001:\n",
    "            symbol = '**'\n",
    "        else:\n",
    "            symbol = '***'\n",
    "        # Vertical line\n",
    "        fig.add_shape(type=\"line\",\n",
    "            xref=\"x\"+subplot_str, yref=\"y\"+subplot_str+\" domain\",\n",
    "            x0=column_pair[0], y0=y_range[index][0], \n",
    "            x1=column_pair[0], y1=y_range[index][1],\n",
    "            line=dict(color=_format['color'], width=2,)\n",
    "        )\n",
    "        # Horizontal line\n",
    "        fig.add_shape(type=\"line\",\n",
    "            xref=\"x\"+subplot_str, yref=\"y\"+subplot_str+\" domain\",\n",
    "            x0=column_pair[0], y0=y_range[index][1], \n",
    "            x1=column_pair[1], y1=y_range[index][1],\n",
    "            line=dict(color=_format['color'], width=2,)\n",
    "        )\n",
    "        # Vertical line\n",
    "        fig.add_shape(type=\"line\",\n",
    "            xref=\"x\"+subplot_str, yref=\"y\"+subplot_str+\" domain\",\n",
    "            x0=column_pair[1], y0=y_range[index][0], \n",
    "            x1=column_pair[1], y1=y_range[index][1],\n",
    "            line=dict(color=_format['color'], width=2,)\n",
    "        )\n",
    "        ## add text at the correct x, y coordinates\n",
    "        ## for bars, there is a direct mapping from the bar number to 0, 1, 2...\n",
    "        fig.add_annotation(dict(font=dict(color=_format['color'],size=14),\n",
    "            x=(column_pair[0] + column_pair[1])/2,\n",
    "            y=y_range[index][1]*_format['text_height'],\n",
    "            showarrow=False,\n",
    "            text=symbol,\n",
    "            textangle=0,\n",
    "            xref=\"x\"+subplot_str,\n",
    "            yref=\"y\"+subplot_str+\" domain\"\n",
    "        ))\n",
    "    return fig"
   ]
  }
 ],
 "metadata": {
  "kernelspec": {
   "display_name": "scanpy",
   "language": "python",
   "name": "scanpy"
  },
  "language_info": {
   "codemirror_mode": {
    "name": "ipython",
    "version": 3
   },
   "file_extension": ".py",
   "mimetype": "text/x-python",
   "name": "python",
   "nbconvert_exporter": "python",
   "pygments_lexer": "ipython3",
   "version": "3.8.12"
  }
 },
 "nbformat": 4,
 "nbformat_minor": 5
}
