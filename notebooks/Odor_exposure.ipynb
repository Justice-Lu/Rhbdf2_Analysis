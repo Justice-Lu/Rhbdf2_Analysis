{
 "cells": [
  {
   "cell_type": "code",
   "execution_count": null,
   "metadata": {},
   "outputs": [],
   "source": [
    "import pandas as pd\n",
    "import numpy as np \n",
    "import os \n",
    "\n",
    "import plotly.express as px \n",
    "import plotly.graph_objects as go\n",
    "import matplotlib.pyplot as plt"
   ]
  },
  {
   "cell_type": "code",
   "execution_count": null,
   "metadata": {},
   "outputs": [],
   "source": [
    "import DE_plotting_tools as plot_tl"
   ]
  },
  {
   "cell_type": "markdown",
   "metadata": {},
   "source": [
    "The goal of this notebook is to compare the results of RNAseq run from Blobel-14357. <br>\n",
    "Experimental design compared WT vs KO each exposed with no-odor(NO), Euganal(EUG) or Octanol(OCT). <br>\n",
    "We should explore the category described below : \n",
    "- gene expression changes between WT_NO vs WT_exposed, and see if similar trend agree in KO_NO vs KO_exposed  <br>\n",
    "- bewteen OR that are stimulated in WT_NO vs WT_exposed, are the OR similarly regulated in KO_NO vs KO_exposed <br>\n",
    "- Explore the population of OR changes between OR stimulated by odor vs other OR \n",
    "- PCA on all samples  "
   ]
  },
  {
   "cell_type": "code",
   "execution_count": null,
   "metadata": {},
   "outputs": [],
   "source": [
    "data_path = \"../DE_out/Blobel-14357/\"\n",
    "\n",
    "# Instantiating files to read from \n",
    "DE_files = [ file for file in os.listdir(data_path) if file.startswith('DE')]\n",
    "# Seperating files with allgene or Olfr only DE \n",
    "DE_allgene_files = [ file for file in DE_files if 'allgene' in file]\n",
    "DE_Olfr_files = [ file for file in DE_files if 'Olfr' in file]"
   ]
  },
  {
   "cell_type": "code",
   "execution_count": null,
   "metadata": {},
   "outputs": [],
   "source": [
    "DE_allgene_df_dict = {}\n",
    "for file in DE_allgene_files: \n",
    "    DE_allgene_df_dict[file.replace('.csv', '')] = pd.read_csv(os.path.join(data_path, file), index_col= 0).reset_index(drop=True)\n",
    "\n",
    "DE_Olfr_df_dict = {}\n",
    "for file in DE_Olfr_files: \n",
    "    DE_Olfr_df_dict[file.replace('.csv', '')] = pd.read_csv(os.path.join(data_path, file), index_col= 0).reset_index(drop=True)    \n",
    "    \n",
    "print(DE_Olfr_df_dict.keys())"
   ]
  },
  {
   "cell_type": "markdown",
   "metadata": {},
   "source": [
    "#### Comparison of WTvsKO NO of Old and new data. "
   ]
  },
  {
   "cell_type": "markdown",
   "metadata": {},
   "source": [
    "##### allgene comparison"
   ]
  },
  {
   "cell_type": "code",
   "execution_count": null,
   "metadata": {},
   "outputs": [],
   "source": [
    "# Compare allgene \n",
    "DE_allgene_old_df = pd.read_csv('../DE_out/Blobel-14025/DE_allgene_WTvsKO_NO.csv', index_col=0).reset_index(drop=True)"
   ]
  },
  {
   "cell_type": "code",
   "execution_count": null,
   "metadata": {},
   "outputs": [],
   "source": [
    "fig = plot_tl.compare_vol_plot(DE_df_list = [DE_allgene_old_df, \n",
    "                                             DE_allgene_df_dict['DE_allgene_WTvsKO_NO']], \n",
    "                               DE_df_name = ['Blobel-14025', 'Blobel-14375'],\n",
    "                             fig_fixed_range = True)\n",
    "# fig.write_html('../output/Blobel-14375/vplots/DE_allgene/DE_allgene_WTvsKO_NO_14025vs14375.html')\n",
    "fig.show()"
   ]
  },
  {
   "cell_type": "code",
   "execution_count": null,
   "metadata": {},
   "outputs": [],
   "source": [
    "# Find the significantly DE Olfr's from both data and compare \n",
    "sig_Olfr = set(DE_allgene_old_df.query('FDR < 0.05').symbol).union(set(DE_allgene_df_dict['DE_allgene_WTvsKO_NO'].query('FDR < 0.05').symbol))\n",
    "\n",
    "fig = plot_tl.compare_vol_plot(DE_df_list = [DE_allgene_old_df[DE_allgene_old_df['symbol'].isin(sig_Olfr)], \n",
    "                                             DE_allgene_df_dict['DE_allgene_WTvsKO_NO'][DE_allgene_df_dict['DE_allgene_WTvsKO_NO']['symbol'].isin(sig_Olfr)]], \n",
    "                               DE_df_name = ['Blobel-14025', 'Blobel-14375'],\n",
    "                             fig_fixed_range = True)\n",
    "# fig.write_html('../output/Blobel-14375/vplots/DE_allgene/DE_allgene_WTvsKO_NO_14025vs14375_sigallgene.html')\n",
    "fig.show()"
   ]
  },
  {
   "cell_type": "code",
   "execution_count": null,
   "metadata": {},
   "outputs": [],
   "source": [
    "# DE sig genes old vs new WTvsKO_NO\n",
    "print(len(DE_allgene_old_df.query('FDR<0.05')))\n",
    "print(len(DE_allgene_df_dict['DE_allgene_WTvsKO_NO'].query('FDR<0.05')))"
   ]
  },
  {
   "cell_type": "code",
   "execution_count": null,
   "metadata": {},
   "outputs": [],
   "source": [
    "compare_df = pd.merge(DE_allgene_old_df[['symbol', 'logFC', 'FDR', 'No1','No2','No3','St1','St2','St3']].dropna(), \n",
    "                      DE_allgene_df_dict['DE_allgene_WTvsKO_NO'][['symbol', 'logFC', 'FDR', 'No1','No2','No3','St1','St2','St3']].dropna(), \n",
    "                      on='symbol')\n",
    "compare_df['logFC_diff'] = abs(compare_df['logFC_x'] - compare_df['logFC_y'])\n",
    "compare_df['logFC_direction'] = (np.sign(compare_df['logFC_x']) == np.sign(compare_df['logFC_y'])).astype(int)"
   ]
  },
  {
   "cell_type": "code",
   "execution_count": null,
   "metadata": {},
   "outputs": [],
   "source": [
    "compare_df[((compare_df['FDR_x'] <= 0.05) | (compare_df['FDR_y'] <= 0.05)) & \n",
    "           (abs(compare_df['logFC_x']) > 0.1) & (abs(compare_df['logFC_y']) > 0.1)].hist('logFC_diff', bins = 100)"
   ]
  },
  {
   "cell_type": "code",
   "execution_count": null,
   "metadata": {},
   "outputs": [],
   "source": [
    "compare_df[((compare_df['FDR_x'] <= 0.05) | (compare_df['FDR_y'] <= 0.05)) & \n",
    "           (abs(compare_df['logFC_x']) > 0.1) & (abs(compare_df['logFC_y']) > 0.1)].hist('logFC_direction',bins = 3)"
   ]
  },
  {
   "cell_type": "code",
   "execution_count": null,
   "metadata": {},
   "outputs": [],
   "source": [
    "Cell_top_markers = pd.read_csv('../../Chaperone_Analysis/output/brann/CELL_top_markers.csv', index_col = 0)[0:10]"
   ]
  },
  {
   "cell_type": "code",
   "execution_count": null,
   "metadata": {},
   "outputs": [],
   "source": [
    "fig = plot_tl.compare_vol_plot(DE_df_list = [DE_allgene_df_dict['DE_allgene_WTvsKO_NO']] + \n",
    "                                            [DE_allgene_df_dict['DE_allgene_WTvsKO_NO'][DE_allgene_df_dict['DE_allgene_WTvsKO_NO']['symbol'].isin(Cell_top_markers[markers])]for markers in Cell_top_markers],\n",
    "                                            DE_df_name = ['allgene'] + Cell_top_markers.columns.to_list())\n",
    "fig.show()\n",
    "# fig.write_html('../output/Blobel-14375/vplots/DE_allgene/DE_allgene_WTvsKO_NO_celltype.html')"
   ]
  },
  {
   "cell_type": "markdown",
   "metadata": {},
   "source": [
    "##### Olfr only comparison"
   ]
  },
  {
   "cell_type": "code",
   "execution_count": null,
   "metadata": {},
   "outputs": [],
   "source": [
    "DE_Olfr_old_df = pd.read_csv('../DE_out/Blobel-14025/DE_Olfr_WTvsKO_NO.csv', index_col=0).reset_index(drop=True)"
   ]
  },
  {
   "cell_type": "code",
   "execution_count": null,
   "metadata": {},
   "outputs": [],
   "source": [
    "fig = plot_tl.compare_vol_plot(DE_df_list = [DE_Olfr_old_df, \n",
    "                                             DE_Olfr_df_dict['DE_Olfr_WTvsKO_NO']], \n",
    "                               DE_df_name = ['Blobel-14025', 'Blobel-14375'], \n",
    "                               fig_fixed_range = True\n",
    "                               )\n",
    "fig.write_html('../output/Blobel-14375/vplots/DE_Olfr/DE_Olfr_WTvsKO_NO_14025vs14375.html')\n",
    "fig.show()"
   ]
  },
  {
   "cell_type": "code",
   "execution_count": null,
   "metadata": {},
   "outputs": [],
   "source": [
    "# Find the significantly DE Olfr's from both data and compare \n",
    "sig_Olfr = set(DE_Olfr_old_df.query('FDR < 0.05').symbol).union(set(DE_Olfr_df_dict['DE_Olfr_WTvsKO_NO'].query('FDR < 0.05').symbol))\n",
    "\n",
    "fig = plot_tl.compare_vol_plot(DE_df_list = [DE_Olfr_old_df[DE_Olfr_old_df['symbol'].isin(sig_Olfr)], \n",
    "                                             DE_Olfr_df_dict['DE_Olfr_WTvsKO_NO'][DE_Olfr_df_dict['DE_Olfr_WTvsKO_NO']['symbol'].isin(sig_Olfr)]], \n",
    "                               DE_df_name = ['Blobel-14025', 'Blobel-14375'])\n",
    "# fig.write_html('../output/Blobel-14375/vplots/DE_Olfr/DE_Olfr_WTvsKO_NO_14025vs14375_sigOlfr.html')\n",
    "# fig.show()"
   ]
  },
  {
   "cell_type": "code",
   "execution_count": null,
   "metadata": {},
   "outputs": [],
   "source": [
    "DE_Olfr_old_df[DE_Olfr_old_df['symbol'].isin(sig_Olfr)].sort_values('FDR')"
   ]
  },
  {
   "cell_type": "code",
   "execution_count": null,
   "metadata": {},
   "outputs": [],
   "source": [
    "DE_Olfr_df_dict['DE_Olfr_WTvsKO_NO'][DE_Olfr_df_dict['DE_Olfr_WTvsKO_NO']['symbol'].isin(sig_Olfr)].head()"
   ]
  },
  {
   "cell_type": "code",
   "execution_count": null,
   "metadata": {},
   "outputs": [],
   "source": [
    "# Since there are inconsistencies between old WTvsKO_NO and the new WTvsKO_NO. Plot the siginificant genes and show directions \n",
    "\n",
    "compare_df = pd.merge(DE_Olfr_old_df[['symbol', 'logFC', 'FDR', 'No1','No2','No3','St1','St2','St3']], \n",
    "                      DE_Olfr_df_dict['DE_Olfr_WTvsKO_NO'][['symbol', 'logFC', 'FDR', 'No1','No2','No3','St1','St2','St3']], \n",
    "                      on='symbol')\n",
    "compare_df['logFC_diff'] = abs(compare_df['logFC_x'] - compare_df['logFC_y'])\n",
    "compare_df['logFC_direction'] = (np.sign(compare_df['logFC_x']) == np.sign(compare_df['logFC_y'])).astype(int)"
   ]
  },
  {
   "cell_type": "code",
   "execution_count": null,
   "metadata": {},
   "outputs": [],
   "source": [
    "compare_df[((compare_df['FDR_x'] <= 0.05) | (compare_df['FDR_y'] <= 0.05)) & \n",
    "           (abs(compare_df['logFC_x']) > 0.1) & (abs(compare_df['logFC_y']) > 0.1)].hist('logFC_diff',bins = 50)"
   ]
  },
  {
   "cell_type": "code",
   "execution_count": null,
   "metadata": {},
   "outputs": [],
   "source": [
    "compare_df[((compare_df['FDR_x'] <= 0.05) | (compare_df['FDR_y'] <= 0.05)) & \n",
    "           (abs(compare_df['logFC_x']) > 0.1) & (abs(compare_df['logFC_y']) > 0.1)].hist('logFC_direction', bins = 3)"
   ]
  },
  {
   "cell_type": "markdown",
   "metadata": {},
   "source": [
    "#### Investigation of WT vs KO with odor stimulation"
   ]
  },
  {
   "cell_type": "code",
   "execution_count": null,
   "metadata": {},
   "outputs": [],
   "source": [
    "# TODO in the WT FDR < 0.05 where does those OR go in KO \n",
    "# TODO within these WT DE OR, what is the epression level of Rhbdf2\n",
    "\n",
    "# TODO in old data if the Old data's sig OR is consistent as this time "
   ]
  },
  {
   "cell_type": "markdown",
   "metadata": {},
   "source": [
    "##### Quick overall volcano plot "
   ]
  },
  {
   "cell_type": "code",
   "execution_count": null,
   "metadata": {},
   "outputs": [],
   "source": [
    "fig = plot_tl.compare_vol_plot(DE_df_list = [DE_Olfr_df_dict['DE_Olfr_NOvsEUG_WT'], DE_Olfr_df_dict['DE_Olfr_NOvsEUG_KO']], \n",
    "                             DE_df_name = ['WT', 'KO'], \n",
    "                             fig_title = 'NOvsEUG WT and KO volcano plot',\n",
    "                             fig_fixed_range = True)\n",
    "# fig.show()\n",
    "fig.write_html('../output/Blobel-14375/vplots/DE_Olfr/DE_Olfr_NOvsEUG_WT_KO.html')\n",
    "\n",
    "fig = plot_tl.compare_vol_plot(DE_df_list = [DE_Olfr_df_dict['DE_Olfr_NOvsOCT_WT'], DE_Olfr_df_dict['DE_Olfr_NOvsOCT_KO']], \n",
    "                             DE_df_name = ['WT', 'KO'], \n",
    "                             fig_title = 'NOvsOCT WT and KO volcano plot',\n",
    "                             fig_fixed_range = True)\n",
    "# fig.show()\n",
    "fig.write_html('../output/Blobel-14375/vplots/DE_Olfr/DE_Olfr_NOvsOCT_WT_KO.html')\n",
    "\n",
    "\n",
    "# Plotting for WTvsKO \n",
    "fig = plot_tl.compare_vol_plot(DE_df_list = [DE_Olfr_df_dict['DE_Olfr_WTvsKO_NO']], \n",
    "                             DE_df_name = ['WTvsKO'], \n",
    "                             fig_title = 'WTvsKO_NO volcano plot',\n",
    "                             fig_fixed_range = True)\n",
    "# fig.show()\n",
    "fig.write_html('../output/Blobel-14375/vplots/DE_Olfr/DE_Olfr_WTvsKO_NO.html')\n",
    "\n",
    "fig = plot_tl.compare_vol_plot(DE_df_list = [DE_Olfr_df_dict['DE_Olfr_WTvsKO_EUG']], \n",
    "                             DE_df_name = ['WTvsKO'], \n",
    "                             fig_title = 'WTvsKO_EUG volcano plot',\n",
    "                             fig_fixed_range = True)\n",
    "# fig.show()\n",
    "fig.write_html('../output/Blobel-14375/vplots/DE_Olfr/DE_Olfr_WTvsKO_EUG.html')\n",
    "\n",
    "\n",
    "fig = plot_tl.compare_vol_plot(DE_df_list = [DE_Olfr_df_dict['DE_Olfr_WTvsKO_OCT']], \n",
    "                             DE_df_name = ['WTvsKO'], \n",
    "                             fig_title = 'WTvsKO_OCT volcano plot',\n",
    "                             fig_fixed_range = True)\n",
    "# fig.show()\n",
    "fig.write_html('../output/Blobel-14375/vplots/DE_Olfr/DE_Olfr_WTvsKO_OCT.html')\n",
    "\n",
    "\n",
    "\n"
   ]
  },
  {
   "cell_type": "markdown",
   "metadata": {},
   "source": [
    "##### Rhbdf2 counts distribution"
   ]
  },
  {
   "cell_type": "code",
   "execution_count": null,
   "metadata": {},
   "outputs": [],
   "source": [
    "# Load Rhbdf2 expression table. Obtained form single cell data \n",
    "# From single cell data, showing Rhbdf2 counts associated with ORs \n",
    "rhbdf2_df_raw = pd.read_csv('../output/Rhbdf2_expression.csv', index_col = 0)\n",
    "rhbdf2_df_raw[['Rhbdf2_sum', 'S100a5_sum']] = rhbdf2_df_raw.groupby('Olfr')[['Rhbdf2_counts', 'S100a5_counts']].transform('sum')\n",
    "rhbdf2_df_raw['Olfr_count'] = rhbdf2_df_raw.groupby('Olfr')['Olfr'].transform('count')\n",
    "rhbdf2_df = rhbdf2_df_raw.drop_duplicates('Olfr').reset_index(drop = True)\n",
    "rhbdf2_df['Rhbdf2_per_cell'] = rhbdf2_df['Rhbdf2_sum'] / rhbdf2_df['Olfr_count']\n",
    "rhbdf2_df['S100a5_per_cell'] = rhbdf2_df['S100a5_sum'] / rhbdf2_df['Olfr_count']\n",
    "rhbdf2_df = rhbdf2_df[['Olfr', 'Rhbdf2_sum', 'S100a5_sum', 'Olfr_count', 'Rhbdf2_per_cell', 'S100a5_per_cell']]"
   ]
  },
  {
   "cell_type": "code",
   "execution_count": null,
   "metadata": {},
   "outputs": [],
   "source": [
    "rhbdf2_df[rhbdf2_df['Olfr_count'] > 5].hist('Rhbdf2_per_cell', bins = 50)"
   ]
  },
  {
   "cell_type": "markdown",
   "metadata": {},
   "source": [
    "##### No Odor vs Euganol "
   ]
  },
  {
   "cell_type": "code",
   "execution_count": null,
   "metadata": {},
   "outputs": [],
   "source": [
    "sig_Olfr = set(DE_Olfr_df_dict['DE_Olfr_NOvsEUG_WT'].query('FDR <= 0.05').symbol).union(set(DE_Olfr_df_dict['DE_Olfr_NOvsEUG_KO'].query('FDR <= 0.05').symbol))\n",
    "\n",
    "fig = plot_tl.compare_vol_plot(DE_df_list = [DE_Olfr_df_dict['DE_Olfr_NOvsEUG_WT'][DE_Olfr_df_dict['DE_Olfr_NOvsEUG_WT'].symbol.isin(sig_Olfr)],\n",
    "                                             DE_Olfr_df_dict['DE_Olfr_NOvsEUG_KO'][DE_Olfr_df_dict['DE_Olfr_NOvsEUG_KO'].symbol.isin(sig_Olfr)]], \n",
    "                             DE_df_name = ['WT', 'KO'], \n",
    "                             fig_title = 'NOvsEUG WT and KO volcano plot')\n",
    "fig.show()\n",
    "# fig.write_html('../output/Blobel-14375/vplots/DE_Olfr/DE_Olfr_NOvsEUG_WT_KO_sigOlfr.html')\n"
   ]
  },
  {
   "cell_type": "code",
   "execution_count": null,
   "metadata": {},
   "outputs": [],
   "source": [
    "DE_Olfr_df_dict['DE_Olfr_NOvsEUG_WT'][DE_Olfr_df_dict['DE_Olfr_NOvsEUG_WT'].symbol.isin(sig_Olfr)][['symbol', 'logFC', 'FDR', 'No1','No2','No3','St1','St2','St3']]\n"
   ]
  },
  {
   "cell_type": "code",
   "execution_count": null,
   "metadata": {},
   "outputs": [],
   "source": [
    "DE_Olfr_df_dict['DE_Olfr_NOvsEUG_KO'][DE_Olfr_df_dict['DE_Olfr_NOvsEUG_KO'].symbol.isin(sig_Olfr)][['symbol', 'logFC', 'FDR', 'No1','No2','No3','St1','St2','St3']]"
   ]
  },
  {
   "cell_type": "code",
   "execution_count": null,
   "metadata": {},
   "outputs": [],
   "source": [
    "# EUG DE Olfr \n",
    "rhbdf2_df[rhbdf2_df['Olfr'].isin(sig_Olfr)]"
   ]
  },
  {
   "cell_type": "code",
   "execution_count": null,
   "metadata": {},
   "outputs": [],
   "source": [
    "# Eugenol positive Olfr is detected via GFP+_S100a5 FACS sorted expression (https://www.ncbi.nlm.nih.gov/pmc/articles/PMC4236398/)\n",
    "Eugenol_pos_Olfr = ['Olfr961', 'Olfr958', 'Olfr960']"
   ]
  },
  {
   "cell_type": "code",
   "execution_count": null,
   "metadata": {},
   "outputs": [],
   "source": [
    "fig = plot_tl.compare_vol_plot(DE_df_list = [DE_Olfr_df_dict['DE_Olfr_NOvsEUG_WT'][DE_Olfr_df_dict['DE_Olfr_NOvsEUG_WT'].symbol.isin(Eugenol_pos_Olfr)],\n",
    "                                             DE_Olfr_df_dict['DE_Olfr_NOvsEUG_KO'][DE_Olfr_df_dict['DE_Olfr_NOvsEUG_KO'].symbol.isin(Eugenol_pos_Olfr)]], \n",
    "                             DE_df_name = ['WT', 'KO'], \n",
    "                             fig_title = 'NOvsEUG WT and KO volcano plot')\n",
    "fig.show()\n",
    "# fig.write_html('../output/Blobel-14375/vplots/DE_Olfr/DE_Olfr_NOvsEUG_WT_KO_EugOlfr.html')\n"
   ]
  },
  {
   "cell_type": "code",
   "execution_count": null,
   "metadata": {},
   "outputs": [],
   "source": [
    "DE_Olfr_df_dict['DE_Olfr_NOvsEUG_WT'][DE_Olfr_df_dict['DE_Olfr_NOvsEUG_WT'].symbol.isin(Eugenol_pos_Olfr)]\n"
   ]
  },
  {
   "cell_type": "code",
   "execution_count": null,
   "metadata": {},
   "outputs": [],
   "source": [
    "DE_Olfr_df_dict['DE_Olfr_NOvsEUG_KO'][DE_Olfr_df_dict['DE_Olfr_NOvsEUG_KO'].symbol.isin(Eugenol_pos_Olfr)]"
   ]
  },
  {
   "cell_type": "code",
   "execution_count": null,
   "metadata": {},
   "outputs": [],
   "source": [
    "# Eug responding OR's Rhbdf2\n",
    "rhbdf2_df[rhbdf2_df['Olfr'].isin(Eugenol_pos_Olfr)]"
   ]
  },
  {
   "cell_type": "markdown",
   "metadata": {},
   "source": [
    "##### No Odor vs Octanal "
   ]
  },
  {
   "cell_type": "code",
   "execution_count": null,
   "metadata": {},
   "outputs": [],
   "source": [
    "sig_Olfr = set(DE_Olfr_df_dict['DE_Olfr_NOvsOCT_WT'].query('FDR < 0.05').symbol).union(set(DE_Olfr_df_dict['DE_Olfr_NOvsOCT_KO'].query('FDR < 0.05').symbol))\n",
    "\n",
    "fig = plot_tl.compare_vol_plot(DE_df_list = [DE_Olfr_df_dict['DE_Olfr_NOvsOCT_WT'][DE_Olfr_df_dict['DE_Olfr_NOvsOCT_WT'].symbol.isin(sig_Olfr)],\n",
    "                                             DE_Olfr_df_dict['DE_Olfr_NOvsOCT_KO'][DE_Olfr_df_dict['DE_Olfr_NOvsOCT_KO'].symbol.isin(sig_Olfr)]], \n",
    "                             DE_df_name = ['WT', 'KO'], \n",
    "                             fig_title = 'NOvsOCT WT and KO volcano plot')\n",
    "fig.show()\n",
    "# fig.write_html('../output/Blobel-14375/vplots/DE_Olfr/DE_Olfr_NOvsOCT_WT_KO_sigOlfr.html')\n"
   ]
  },
  {
   "cell_type": "code",
   "execution_count": null,
   "metadata": {},
   "outputs": [],
   "source": [
    "DE_Olfr_df_dict['DE_Olfr_NOvsOCT_WT'][DE_Olfr_df_dict['DE_Olfr_NOvsOCT_WT'].symbol.isin(sig_Olfr)][['symbol', 'logFC', 'FDR', 'No1','No2','No3','St1','St2','St3']]\n"
   ]
  },
  {
   "cell_type": "code",
   "execution_count": null,
   "metadata": {},
   "outputs": [],
   "source": [
    "DE_Olfr_df_dict['DE_Olfr_NOvsOCT_KO'][DE_Olfr_df_dict['DE_Olfr_NOvsOCT_KO'].symbol.isin(sig_Olfr)][['symbol', 'logFC', 'FDR', 'No1','No2','No3','St1','St2','St3']]"
   ]
  },
  {
   "cell_type": "code",
   "execution_count": null,
   "metadata": {},
   "outputs": [],
   "source": [
    "# Load pS6IP_df \n",
    "pS6IP_df = pd.read_csv('../../pS6-IP-Analysis/pS6IP_MASTER_HL_Annotated_2022.csv', index_col=0)\n",
    "pS6IP_df = pS6IP_df.rename(columns = {'id': 'symbol'})"
   ]
  },
  {
   "cell_type": "code",
   "execution_count": null,
   "metadata": {},
   "outputs": [],
   "source": [
    "# DE ORs are NOT DE in pS6 stimulation\n",
    "pS6IP_df[(pS6IP_df['odor'] == 'Octanal') & (pS6IP_df['symbol'].isin(sig_Olfr))]"
   ]
  },
  {
   "cell_type": "code",
   "execution_count": null,
   "metadata": {},
   "outputs": [],
   "source": [
    "# DE OR's Rhbdf2\n",
    "rhbdf2_df[rhbdf2_df['Olfr'].isin(DE_Olfr_df_dict['DE_Olfr_NOvsOCT_WT'].query('FDR < 0.05').symbol)]"
   ]
  },
  {
   "cell_type": "code",
   "execution_count": null,
   "metadata": {},
   "outputs": [],
   "source": [
    "# Octanal positive Olfr \n",
    "Octanal_positive_Olfr = pS6IP_df[(pS6IP_df['odor'] == 'Octanal') & (pS6IP_df['FDR'] < 0.05)].symbol.values\n",
    "fig = plot_tl.compare_vol_plot(DE_df_list = [DE_Olfr_df_dict['DE_Olfr_NOvsOCT_WT'][DE_Olfr_df_dict['DE_Olfr_NOvsOCT_WT'].symbol.isin(Octanal_positive_Olfr)],\n",
    "                                             DE_Olfr_df_dict['DE_Olfr_NOvsOCT_KO'][DE_Olfr_df_dict['DE_Olfr_NOvsOCT_KO'].symbol.isin(Octanal_positive_Olfr)]], \n",
    "                             DE_df_name = ['WT', 'KO'], \n",
    "                             fig_title = 'NOvsOCT WT and KO volcano plot')\n",
    "fig.show()\n",
    "fig.write_html('../output/Blobel-14375/vplots/DE_Olfr/DE_Olfr_NOvsOCT_WT_KO_OctOlfr.html')\n"
   ]
  },
  {
   "cell_type": "code",
   "execution_count": null,
   "metadata": {},
   "outputs": [],
   "source": [
    "DE_Olfr_df_dict['DE_Olfr_NOvsOCT_WT'][DE_Olfr_df_dict['DE_Olfr_NOvsOCT_WT'].symbol.isin(Octanal_positive_Olfr)]"
   ]
  },
  {
   "cell_type": "code",
   "execution_count": null,
   "metadata": {},
   "outputs": [],
   "source": [
    "DE_Olfr_df_dict['DE_Olfr_NOvsOCT_KO'][DE_Olfr_df_dict['DE_Olfr_NOvsOCT_KO'].symbol.isin(Octanal_positive_Olfr)]"
   ]
  },
  {
   "cell_type": "code",
   "execution_count": null,
   "metadata": {},
   "outputs": [],
   "source": [
    "# Eug responding OR's Rhbdf2\n",
    "rhbdf2_df[rhbdf2_df['Olfr'].isin(Octanal_positive_Olfr)]"
   ]
  },
  {
   "cell_type": "code",
   "execution_count": null,
   "metadata": {},
   "outputs": [],
   "source": [
    "pS6IP_df.head()"
   ]
  },
  {
   "cell_type": "code",
   "execution_count": 44,
   "metadata": {},
   "outputs": [
    {
     "data": {
      "text/html": [
       "<div>\n",
       "<style scoped>\n",
       "    .dataframe tbody tr th:only-of-type {\n",
       "        vertical-align: middle;\n",
       "    }\n",
       "\n",
       "    .dataframe tbody tr th {\n",
       "        vertical-align: top;\n",
       "    }\n",
       "\n",
       "    .dataframe thead th {\n",
       "        text-align: right;\n",
       "    }\n",
       "</style>\n",
       "<table border=\"1\" class=\"dataframe\">\n",
       "  <thead>\n",
       "    <tr style=\"text-align: right;\">\n",
       "      <th></th>\n",
       "      <th>symbol</th>\n",
       "      <th>odor_and_conc</th>\n",
       "      <th>logFC</th>\n",
       "      <th>FDR</th>\n",
       "      <th>No1</th>\n",
       "      <th>No2</th>\n",
       "      <th>No3</th>\n",
       "      <th>ST1</th>\n",
       "      <th>ST2</th>\n",
       "      <th>ST3</th>\n",
       "      <th>odor_category</th>\n",
       "    </tr>\n",
       "    <tr>\n",
       "      <th>ensembl_gene_id</th>\n",
       "      <th></th>\n",
       "      <th></th>\n",
       "      <th></th>\n",
       "      <th></th>\n",
       "      <th></th>\n",
       "      <th></th>\n",
       "      <th></th>\n",
       "      <th></th>\n",
       "      <th></th>\n",
       "      <th></th>\n",
       "      <th></th>\n",
       "    </tr>\n",
       "  </thead>\n",
       "  <tbody>\n",
       "    <tr>\n",
       "      <th>ENSMUSG00000059887</th>\n",
       "      <td>Olfr1507</td>\n",
       "      <td>100% TMT</td>\n",
       "      <td>-0.773792</td>\n",
       "      <td>0.023646</td>\n",
       "      <td>294</td>\n",
       "      <td>318</td>\n",
       "      <td>191</td>\n",
       "      <td>267</td>\n",
       "      <td>212</td>\n",
       "      <td>168</td>\n",
       "      <td>Thiazole</td>\n",
       "    </tr>\n",
       "    <tr>\n",
       "      <th>ENSMUSG00000062649</th>\n",
       "      <td>Olfr44</td>\n",
       "      <td>100% TMT</td>\n",
       "      <td>-1.276026</td>\n",
       "      <td>0.038452</td>\n",
       "      <td>38</td>\n",
       "      <td>19</td>\n",
       "      <td>56</td>\n",
       "      <td>10</td>\n",
       "      <td>20</td>\n",
       "      <td>37</td>\n",
       "      <td>Thiazole</td>\n",
       "    </tr>\n",
       "    <tr>\n",
       "      <th>ENSMUSG00000059887</th>\n",
       "      <td>Olfr1507</td>\n",
       "      <td>1% Citronellol</td>\n",
       "      <td>0.595607</td>\n",
       "      <td>0.025253</td>\n",
       "      <td>218</td>\n",
       "      <td>658</td>\n",
       "      <td>335</td>\n",
       "      <td>681</td>\n",
       "      <td>1262</td>\n",
       "      <td>304</td>\n",
       "      <td>Alcohols</td>\n",
       "    </tr>\n",
       "    <tr>\n",
       "      <th>ENSMUSG00000062649</th>\n",
       "      <td>Olfr44</td>\n",
       "      <td>1% 2-Methyl-2-thiazoline</td>\n",
       "      <td>-1.509817</td>\n",
       "      <td>0.040583</td>\n",
       "      <td>42</td>\n",
       "      <td>43</td>\n",
       "      <td>53</td>\n",
       "      <td>19</td>\n",
       "      <td>8</td>\n",
       "      <td>24</td>\n",
       "      <td>Thiazole</td>\n",
       "    </tr>\n",
       "    <tr>\n",
       "      <th>ENSMUSG00000059887</th>\n",
       "      <td>Olfr1507</td>\n",
       "      <td>100% 2-Methyl-2-thiazoline</td>\n",
       "      <td>-0.994439</td>\n",
       "      <td>0.000053</td>\n",
       "      <td>302</td>\n",
       "      <td>380</td>\n",
       "      <td>396</td>\n",
       "      <td>108</td>\n",
       "      <td>182</td>\n",
       "      <td>226</td>\n",
       "      <td>Thiazole</td>\n",
       "    </tr>\n",
       "    <tr>\n",
       "      <th>ENSMUSG00000062649</th>\n",
       "      <td>Olfr44</td>\n",
       "      <td>100% 2-Methyl-2-thiazoline</td>\n",
       "      <td>-2.774555</td>\n",
       "      <td>0.000073</td>\n",
       "      <td>42</td>\n",
       "      <td>43</td>\n",
       "      <td>53</td>\n",
       "      <td>1</td>\n",
       "      <td>12</td>\n",
       "      <td>8</td>\n",
       "      <td>Thiazole</td>\n",
       "    </tr>\n",
       "    <tr>\n",
       "      <th>ENSMUSG00000059887</th>\n",
       "      <td>Olfr1507</td>\n",
       "      <td>1% Diacetyl</td>\n",
       "      <td>0.739105</td>\n",
       "      <td>0.023805</td>\n",
       "      <td>684</td>\n",
       "      <td>408</td>\n",
       "      <td>407</td>\n",
       "      <td>924</td>\n",
       "      <td>737</td>\n",
       "      <td>688</td>\n",
       "      <td>Others</td>\n",
       "    </tr>\n",
       "    <tr>\n",
       "      <th>ENSMUSG00000059887</th>\n",
       "      <td>Olfr1507</td>\n",
       "      <td>1% Dimethyl trisulfide</td>\n",
       "      <td>1.092693</td>\n",
       "      <td>0.001984</td>\n",
       "      <td>321</td>\n",
       "      <td>643</td>\n",
       "      <td>660</td>\n",
       "      <td>975</td>\n",
       "      <td>1630</td>\n",
       "      <td>883</td>\n",
       "      <td>Sulfurous</td>\n",
       "    </tr>\n",
       "    <tr>\n",
       "      <th>ENSMUSG00000059887</th>\n",
       "      <td>Olfr1507</td>\n",
       "      <td>10mM MTMT</td>\n",
       "      <td>1.076370</td>\n",
       "      <td>0.030858</td>\n",
       "      <td>229</td>\n",
       "      <td>305</td>\n",
       "      <td>326</td>\n",
       "      <td>284</td>\n",
       "      <td>1376</td>\n",
       "      <td>522</td>\n",
       "      <td>Others</td>\n",
       "    </tr>\n",
       "  </tbody>\n",
       "</table>\n",
       "</div>"
      ],
      "text/plain": [
       "                      symbol               odor_and_conc     logFC       FDR  \\\n",
       "ensembl_gene_id                                                                \n",
       "ENSMUSG00000059887  Olfr1507                    100% TMT -0.773792  0.023646   \n",
       "ENSMUSG00000062649    Olfr44                    100% TMT -1.276026  0.038452   \n",
       "ENSMUSG00000059887  Olfr1507              1% Citronellol  0.595607  0.025253   \n",
       "ENSMUSG00000062649    Olfr44    1% 2-Methyl-2-thiazoline -1.509817  0.040583   \n",
       "ENSMUSG00000059887  Olfr1507  100% 2-Methyl-2-thiazoline -0.994439  0.000053   \n",
       "ENSMUSG00000062649    Olfr44  100% 2-Methyl-2-thiazoline -2.774555  0.000073   \n",
       "ENSMUSG00000059887  Olfr1507                 1% Diacetyl  0.739105  0.023805   \n",
       "ENSMUSG00000059887  Olfr1507      1% Dimethyl trisulfide  1.092693  0.001984   \n",
       "ENSMUSG00000059887  Olfr1507                   10mM MTMT  1.076370  0.030858   \n",
       "\n",
       "                    No1  No2  No3  ST1   ST2  ST3 odor_category  \n",
       "ensembl_gene_id                                                  \n",
       "ENSMUSG00000059887  294  318  191  267   212  168      Thiazole  \n",
       "ENSMUSG00000062649   38   19   56   10    20   37      Thiazole  \n",
       "ENSMUSG00000059887  218  658  335  681  1262  304      Alcohols  \n",
       "ENSMUSG00000062649   42   43   53   19     8   24      Thiazole  \n",
       "ENSMUSG00000059887  302  380  396  108   182  226      Thiazole  \n",
       "ENSMUSG00000062649   42   43   53    1    12    8      Thiazole  \n",
       "ENSMUSG00000059887  684  408  407  924   737  688        Others  \n",
       "ENSMUSG00000059887  321  643  660  975  1630  883     Sulfurous  \n",
       "ENSMUSG00000059887  229  305  326  284  1376  522        Others  "
      ]
     },
     "execution_count": 44,
     "metadata": {},
     "output_type": "execute_result"
    }
   ],
   "source": [
    "\n",
    "pS6IP_df[(pS6IP_df['symbol'].isin(['Olfr44', 'Olfr1507'])) & \n",
    "         (pS6IP_df['FDR'] < 0.05)][['symbol','odor_and_conc', 'logFC', 'FDR', 'No1','No2','No3','ST1','ST2','ST3', 'odor_category']]"
   ]
  },
  {
   "cell_type": "code",
   "execution_count": null,
   "metadata": {},
   "outputs": [],
   "source": [
    "# Since there are different ORs differentially expressed in WT vs KO in NOvsEUG condition. \n",
    "# Investigate if those ORs are stimulated by EUG via pS6 or OR expressing Rhbdf2"
   ]
  },
  {
   "cell_type": "code",
   "execution_count": null,
   "metadata": {},
   "outputs": [],
   "source": [
    "\"\"\"\n",
    "Visualize the effect of Rhbdf2 / S100a5 expression on logFC \n",
    "\"\"\"\n",
    "plot_df1 = DE_Olfr_df_dict['DE_Olfr_NOvsOCT_WT'] \n",
    "plot_df1 = pd.merge(plot_df1, rhbdf2_df, left_on = 'symbol', right_on = 'Olfr')\n",
    "plot_df2 = DE_Olfr_df_dict['DE_Olfr_NOvsOCT_KO']\n",
    "plot_df2 = pd.merge(plot_df2, rhbdf2_df, left_on = 'symbol', right_on = 'Olfr')\n",
    "\n",
    "DE_df_list = [plot_df1, plot_df2]\n",
    "DE_df_name = ['NOvsOCT WT', 'NOvsOCT KO']\n",
    "\n",
    "\n",
    "xmin, xmax, ymin, ymax = 0, 0, 0, 0\n",
    "\n",
    "fig = go.Figure()\n",
    "# Add traces of individual DE_df \n",
    "for DE_df, DE_name in zip(DE_df_list, DE_df_name): \n",
    "    plot_df = DE_df.copy()\n",
    "    fig.add_trace(go.Scatter(x = plot_df['logFC'], \n",
    "                             y = plot_df['Rhbdf2_sum'],\n",
    "                            text = plot_df['symbol'],\n",
    "                            mode = 'markers', \n",
    "                            name = DE_name+'_Rhbdf2',\n",
    "                            marker = dict(size = 10, \n",
    "                                        opacity=0.1)\n",
    "                            )\n",
    "                )\n",
    "    xmin =  min(plot_df['logFC'])*1.10 if min(plot_df['logFC']) < xmin else xmin\n",
    "    xmax =  max(plot_df['logFC'])*1.10 if max(plot_df['logFC']) > xmax else xmax\n",
    "    # ymin =  min(-np.log10(plot_df['FDR']))*1.10 if min(-np.log10(plot_df['FDR'])) < ymin else ymin  # ymin will be 0 anyways\n",
    "    ymax =  max(plot_df['Rhbdf2_sum'])*1.10 if max(plot_df['Rhbdf2_sum']) > ymax else ymax\n",
    "\n",
    "# for DE_df, DE_name in zip(DE_df_list, DE_df_name): \n",
    "#     plot_df = DE_df.copy()\n",
    "#     fig.add_trace(go.Scatter(x = plot_df['logFC'], \n",
    "#                              y = plot_df['S100a5_sum'],\n",
    "#                             text = plot_df['symbol'],\n",
    "#                             mode = 'markers', \n",
    "#                             name = DE_name+'_S100a5',\n",
    "#                             marker = dict(size = 10, \n",
    "#                                         opacity=0.1)))\n",
    "#     xmin =  min(plot_df['logFC'])*1.10 if min(plot_df['logFC']) < xmin else xmin\n",
    "#     xmax =  max(plot_df['logFC'])*1.10 if max(plot_df['logFC']) > xmax else xmax\n",
    "#     # ymin =  min(-np.log10(plot_df['FDR']))*1.10 if min(-np.log10(plot_df['FDR'])) < ymin else ymin  # ymin will be 0 anyways\n",
    "#     ymax =  max(plot_df['S100a5_sum'])*1.10 if max(plot_df['S100a5_sum']) > ymax else ymax\n",
    "    \n",
    "# Add a line for FDR = 0.05\n",
    "# fig.add_shape(type='line', x0=-10, x1=10, y0=-np.log10(0.05), y1=-np.log10(0.05), line=dict(color='violet', width=3, dash='dash'))\n",
    "\n",
    "fig.update_traces( \n",
    "    textposition='top center',\n",
    "    hovertemplate =\n",
    "    '<b>%{text}</b>' + \n",
    "    '<br>LogFC: %{x}'+\n",
    "    '<br>sum: %{y}<br>')\n",
    "\n",
    "fig.update_layout(\n",
    "    title='',\n",
    "    autosize=True,\n",
    "    template='simple_white'\n",
    ")\n",
    "\n",
    "# Center the data by taking the bigger value between xmin and xmax \n",
    "xmax = max(abs(xmin),abs(xmax))\n",
    "fig.update_xaxes(range=[-xmax, xmax])\n",
    "fig.update_yaxes(range=[-ymax*0.05, ymax])\n",
    "\n",
    "fig.show()\n",
    "fig.write_html('../output/Blobel-14375/vplots/DE_Olfr/DE_Olfr_NOvsOCT_WT_KO_Rhbdf2_logFC.html')\n",
    "# fig.write_html('../output/Blobel-14375/vplots/DE_Olfr/DE_Olfr_NOvsOCT_WT_KO_S100a5_logFC.html')\n"
   ]
  },
  {
   "cell_type": "code",
   "execution_count": null,
   "metadata": {},
   "outputs": [],
   "source": [
    "\"\"\"\n",
    "Visualize the effect of Rhbdf2 / S100a5 expression on logFC \n",
    "\"\"\"\n",
    "plot_df1 = DE_Olfr_df_dict['DE_Olfr_NOvsEUG_WT'] \n",
    "plot_df1 = pd.merge(plot_df1, rhbdf2_df, left_on = 'symbol', right_on = 'Olfr')\n",
    "plot_df2 = DE_Olfr_df_dict['DE_Olfr_NOvsEUG_KO']\n",
    "plot_df2 = pd.merge(plot_df2, rhbdf2_df, left_on = 'symbol', right_on = 'Olfr')\n",
    "\n",
    "DE_df_list = [plot_df1, plot_df2]\n",
    "DE_df_name = ['NOvsEUG WT', 'NOvsEUG KO']\n",
    "\n",
    "\n",
    "xmin, xmax, ymin, ymax = 0, 0, 0, 0\n",
    "\n",
    "fig = go.Figure()\n",
    "# Add traces of individual DE_df \n",
    "for DE_df, DE_name in zip(DE_df_list, DE_df_name): \n",
    "    plot_df = DE_df.copy()\n",
    "    fig.add_trace(go.Scatter(x = plot_df['logFC'], \n",
    "                             y = plot_df['Rhbdf2_sum'],\n",
    "                            text = plot_df['symbol'],\n",
    "                            mode = 'markers', \n",
    "                            name = DE_name+'_Rhbdf2',\n",
    "                            marker = dict(size = 10, \n",
    "                                        opacity=0.1)\n",
    "                            )\n",
    "                )\n",
    "    xmin =  min(plot_df['logFC'])*1.10 if min(plot_df['logFC']) < xmin else xmin\n",
    "    xmax =  max(plot_df['logFC'])*1.10 if max(plot_df['logFC']) > xmax else xmax\n",
    "    # ymin =  min(-np.log10(plot_df['FDR']))*1.10 if min(-np.log10(plot_df['FDR'])) < ymin else ymin  # ymin will be 0 anyways\n",
    "    ymax =  max(plot_df['Rhbdf2_sum'])*1.10 if max(plot_df['Rhbdf2_sum']) > ymax else ymax\n",
    "\n",
    "# for DE_df, DE_name in zip(DE_df_list, DE_df_name): \n",
    "#     plot_df = DE_df.copy()\n",
    "#     fig.add_trace(go.Scatter(x = plot_df['logFC'], \n",
    "#                              y = plot_df['S100a5_sum'],\n",
    "#                             text = plot_df['symbol'],\n",
    "#                             mode = 'markers', \n",
    "#                             name = DE_name+'_S100a5',\n",
    "#                             marker = dict(size = 10, \n",
    "#                                         opacity=0.1)))\n",
    "#     xmin =  min(plot_df['logFC'])*1.10 if min(plot_df['logFC']) < xmin else xmin\n",
    "#     xmax =  max(plot_df['logFC'])*1.10 if max(plot_df['logFC']) > xmax else xmax\n",
    "#     # ymin =  min(-np.log10(plot_df['FDR']))*1.10 if min(-np.log10(plot_df['FDR'])) < ymin else ymin  # ymin will be 0 anyways\n",
    "#     ymax =  max(plot_df['S100a5_sum'])*1.10 if max(plot_df['S100a5_sum']) > ymax else ymax\n",
    "    \n",
    "# Add a line for FDR = 0.05\n",
    "# fig.add_shape(type='line', x0=-10, x1=10, y0=-np.log10(0.05), y1=-np.log10(0.05), line=dict(color='violet', width=3, dash='dash'))\n",
    "\n",
    "fig.update_traces( \n",
    "    textposition='top center',\n",
    "    hovertemplate =\n",
    "    '<b>%{text}</b>' + \n",
    "    '<br>LogFC: %{x}'+\n",
    "    '<br>sum: %{y}<br>')\n",
    "\n",
    "fig.update_layout(\n",
    "    title='',\n",
    "    autosize=True,\n",
    "    template='simple_white'\n",
    ")\n",
    "\n",
    "# Center the data by taking the bigger value between xmin and xmax \n",
    "xmax = max(abs(xmin),abs(xmax))\n",
    "fig.update_xaxes(range=[-xmax, xmax])\n",
    "fig.update_yaxes(range=[-ymax*0.05, ymax])\n",
    "\n",
    "fig.show()\n",
    "fig.write_html('../output/Blobel-14375/vplots/DE_Olfr/DE_Olfr_NOvsEUG_WT_KO_Rhbdf2_logFC.html')\n",
    "# fig.write_html('../output/Blobel-14375/vplots/DE_Olfr/DE_Olfr_NOvsEUG_WT_KO_S100a5_logFC.html')\n"
   ]
  },
  {
   "cell_type": "code",
   "execution_count": null,
   "metadata": {},
   "outputs": [],
   "source": [
    "\"\"\"\n",
    "Visualize the effect of Rhbdf2 / S100a5 expression on logFC \n",
    "\"\"\"\n",
    "plot_df1 = DE_Olfr_df_dict['DE_Olfr_NOvsEUG_WT'] \n",
    "plot_df1 = pd.merge(plot_df1, rhbdf2_df, left_on = 'symbol', right_on = 'Olfr')\n",
    "plot_df2 = DE_Olfr_df_dict['DE_Olfr_NOvsEUG_KO']\n",
    "plot_df2 = pd.merge(plot_df2, rhbdf2_df, left_on = 'symbol', right_on = 'Olfr')\n",
    "\n",
    "DE_df_list = [plot_df1, plot_df2]\n",
    "DE_df_name = ['NOvsEUG WT', 'NOvsEUG KO']\n",
    "\n",
    "\n",
    "fig = go.Figure()\n",
    "\n",
    "# Add traces of individual DE_df \n",
    "for DE_df, DE_name in zip(DE_df_list, DE_df_name): \n",
    "    plot_df = DE_df.copy()\n",
    "    fig.add_trace(go.Scatter(x = plot_df['logFC'], \n",
    "                             y = plot_df['Rhbdf2_sum'],\n",
    "                            text = plot_df['symbol'],\n",
    "                            mode = 'markers', \n",
    "                            name = DE_name+'_Rhbdf2',\n",
    "                            marker = dict(size = 10, \n",
    "                                        opacity=0.1)\n",
    "                            )\n",
    "                )\n",
    "for DE_df, DE_name in zip(DE_df_list, DE_df_name): \n",
    "    plot_df = DE_df.copy()\n",
    "    fig.add_trace(go.Scatter(x = plot_df['logFC'], \n",
    "                             y = plot_df['S100a5_sum'],\n",
    "                            text = plot_df['symbol'],\n",
    "                            mode = 'markers', \n",
    "                            name = DE_name+'_S100a5',\n",
    "                            marker = dict(size = 10, \n",
    "                                        opacity=0.1)))\n",
    "# Add a line for FDR = 0.05\n",
    "# fig.add_shape(type='line', x0=-10, x1=10, y0=-np.log10(0.05), y1=-np.log10(0.05), line=dict(color='violet', width=3, dash='dash'))\n",
    "\n",
    "fig.update_traces( \n",
    "    textposition='top center',\n",
    "    hovertemplate =\n",
    "    '<b>%{text}</b>' + \n",
    "    '<br>LogFC: %{x}'+\n",
    "    '<br>sum: %{y}<br>')\n",
    "\n",
    "fig.update_layout(\n",
    "    title='',\n",
    "    autosize=True,\n",
    "    template='simple_white'\n",
    ")\n",
    "\n",
    "fig.show()\n",
    "# fig.write_html('../output/Blobel-14375/vplots/DE_Olfr/DE_Olfr_NOvsEUG_WT_KO_Rhbdf2_S100a5_logFC.html')\n"
   ]
  },
  {
   "cell_type": "code",
   "execution_count": null,
   "metadata": {},
   "outputs": [],
   "source": [
    "\"\"\"\n",
    "Visualize the effect of Rhbdf2 / S100a5 expression on logFC \n",
    "\"\"\"\n",
    "plot_df1 = DE_Olfr_df_dict['DE_Olfr_NOvsOCT_WT'] \n",
    "plot_df1 = pd.merge(plot_df1, rhbdf2_df, left_on = 'symbol', right_on = 'Olfr')\n",
    "plot_df2 = DE_Olfr_df_dict['DE_Olfr_NOvsOCT_KO']\n",
    "plot_df2 = pd.merge(plot_df2, rhbdf2_df, left_on = 'symbol', right_on = 'Olfr')\n",
    "\n",
    "DE_df_list = [plot_df1, plot_df2]\n",
    "DE_df_name = ['NOvsOCT WT', 'NOvsOCT KO']\n",
    "\n",
    "\n",
    "fig = go.Figure()\n",
    "\n",
    "# Add traces of individual DE_df \n",
    "for DE_df, DE_name in zip(DE_df_list, DE_df_name): \n",
    "    plot_df = DE_df.copy()\n",
    "    fig.add_trace(go.Scatter(x = -np.log10(plot_df['FDR']), \n",
    "                             y = plot_df['Rhbdf2_sum'],\n",
    "                             text = plot_df['symbol'],\n",
    "                             mode = 'markers', \n",
    "                             name = DE_name+'_Rhbdf2',\n",
    "                             marker = dict(size = 10, \n",
    "                                        opacity=0.1)\n",
    "                            )\n",
    "                )\n",
    "for DE_df, DE_name in zip(DE_df_list, DE_df_name): \n",
    "    plot_df = DE_df.copy()\n",
    "    fig.add_trace(go.Scatter(x = -np.log10(plot_df['FDR']), \n",
    "                             y = plot_df['S100a5_sum'],\n",
    "                             text = plot_df['symbol'],\n",
    "                             mode = 'markers', \n",
    "                             name = DE_name+'_S100a5',\n",
    "                             marker = dict(size = 10, \n",
    "                                        opacity=0.1)))\n",
    "# Add a line for FDR = 0.05\n",
    "# fig.add_shape(type='line', y0=0, y1=1e5, x0=-np.log10(0.05), x1=-np.log10(0.05), line=dict(color='violet', width=3, dash='dash'))\n",
    "\n",
    "fig.update_traces( \n",
    "    textposition='top center',\n",
    "    hovertemplate =\n",
    "    '<b>%{text}</b>' + \n",
    "    '<br>LogFC: %{x}'+\n",
    "    '<br>sum: %{y}<br>')\n",
    "\n",
    "fig.update_layout(\n",
    "    title='',\n",
    "    autosize=True,\n",
    "    template='simple_white'\n",
    ")\n",
    "\n",
    "fig.show()\n",
    "# fig.write_html('../output/Blobel-14375/vplots/DE_Olfr/DE_Olfr_NOvsOCT_WT_KO_Rhbdf2_S100a5_FDR.html')\n"
   ]
  },
  {
   "cell_type": "code",
   "execution_count": null,
   "metadata": {},
   "outputs": [],
   "source": [
    "\"\"\"\n",
    "Visualize the effect of Rhbdf2 / S100a5 expression on logFC \n",
    "\"\"\"\n",
    "plot_df1 = DE_Olfr_df_dict['DE_Olfr_NOvsEUG_WT'] \n",
    "plot_df1 = pd.merge(plot_df1, rhbdf2_df, left_on = 'symbol', right_on = 'Olfr')\n",
    "plot_df2 = DE_Olfr_df_dict['DE_Olfr_NOvsEUG_KO']\n",
    "plot_df2 = pd.merge(plot_df2, rhbdf2_df, left_on = 'symbol', right_on = 'Olfr')\n",
    "\n",
    "DE_df_list = [plot_df1, plot_df2]\n",
    "DE_df_name = ['NOvsEUG WT', 'NOvsEUG KO']\n",
    "\n",
    "\n",
    "fig = go.Figure()\n",
    "\n",
    "# Add traces of individual DE_df \n",
    "for DE_df, DE_name in zip(DE_df_list, DE_df_name): \n",
    "    plot_df = DE_df.copy()\n",
    "    fig.add_trace(go.Scatter(x = -np.log10(plot_df['FDR']), \n",
    "                             y = plot_df['Rhbdf2_sum'],\n",
    "                             text = plot_df['symbol'],\n",
    "                             mode = 'markers', \n",
    "                             name = DE_name+'_Rhbdf2',\n",
    "                             marker = dict(size = 10, \n",
    "                                        opacity=0.1)\n",
    "                            )\n",
    "                )\n",
    "for DE_df, DE_name in zip(DE_df_list, DE_df_name): \n",
    "    plot_df = DE_df.copy()\n",
    "    fig.add_trace(go.Scatter(x = -np.log10(plot_df['FDR']), \n",
    "                             y = plot_df['S100a5_sum'],\n",
    "                             text = plot_df['symbol'],\n",
    "                             mode = 'markers', \n",
    "                             name = DE_name+'_S100a5',\n",
    "                             marker = dict(size = 10, \n",
    "                                        opacity=0.1)))\n",
    "# Add a line for FDR = 0.05\n",
    "# fig.add_shape(type='line', y0=0, y1=1e5, x0=-np.log10(0.05), x1=-np.log10(0.05), line=dict(color='violet', width=3, dash='dash'))\n",
    "\n",
    "fig.update_traces( \n",
    "    textposition='top center',\n",
    "    hovertemplate =\n",
    "    '<b>%{text}</b>' + \n",
    "    '<br>LogFC: %{x}'+\n",
    "    '<br>sum: %{y}<br>')\n",
    "\n",
    "fig.update_layout(\n",
    "    title='',\n",
    "    autosize=True,\n",
    "    template='simple_white'\n",
    ")\n",
    "\n",
    "fig.show()\n",
    "# fig.write_html('../output/Blobel-14375/vplots/DE_Olfr/DE_Olfr_NOvsEUG_WT_KO_Rhbdf2_S100a5_FDR.html')\n"
   ]
  },
  {
   "cell_type": "code",
   "execution_count": null,
   "metadata": {},
   "outputs": [],
   "source": []
  },
  {
   "cell_type": "code",
   "execution_count": null,
   "metadata": {},
   "outputs": [],
   "source": []
  },
  {
   "cell_type": "code",
   "execution_count": null,
   "metadata": {},
   "outputs": [],
   "source": []
  },
  {
   "cell_type": "markdown",
   "metadata": {},
   "source": [
    "### Reduced dimensional comparison "
   ]
  },
  {
   "cell_type": "code",
   "execution_count": null,
   "metadata": {},
   "outputs": [],
   "source": [
    "# Read in raw counts of all DE_out data \n",
    "all_counts = pd.read_csv('../DE_out/Blobel-14357/Blobel-14357_counts_CompiledExpectedCounts_allGene.csv', index_col = 0)\n",
    "\n",
    "geneID_info = pd.read_csv('../DE_out/preprocessing/eID_sym_name.csv', index_col = 0)[['ensembl_gene_id', 'symbol']]\n",
    "geneID_info = geneID_info.set_index('ensembl_gene_id')\n",
    "geneID_info = geneID_info.dropna()\n",
    "\n",
    "# Set index from ensembl_gene_id to symbol\n",
    "all_counts = pd.merge(all_counts, geneID_info, left_index=True, right_index=True).set_index('symbol')\n",
    "Olfr_counts = all_counts[all_counts.index.str.contains('Olfr')]"
   ]
  },
  {
   "cell_type": "code",
   "execution_count": null,
   "metadata": {},
   "outputs": [],
   "source": [
    "fig = plot_tl.reduced_dimension_plot(count_df = all_counts, \n",
    "                               reduction_method = 'umap')\n",
    "fig.update_layout( title='umap allgene counts')\n",
    "fig.show()\n",
    "# fig.write_html('../output/Blobel-14375/allgene_umap.html')\n",
    "fig = plot_tl.reduced_dimension_plot(count_df = all_counts, \n",
    "                               reduction_method = 'pca')\n",
    "fig.update_layout( title='pca allgene counts')\n",
    "fig.show()\n",
    "# fig.write_html('../output/Blobel-14375/allgene_pca.html')"
   ]
  },
  {
   "cell_type": "code",
   "execution_count": null,
   "metadata": {},
   "outputs": [],
   "source": [
    "fig = plot_tl.reduced_dimension_plot(count_df = Olfr_counts, \n",
    "                               reduction_method = 'umap')\n",
    "fig.update_layout( title='umap Olfr counts')\n",
    "fig.show()\n",
    "# fig.write_html('../output/Blobel-14375/Olfr_umap.html')\n",
    "fig = plot_tl.reduced_dimension_plot(count_df = Olfr_counts, \n",
    "                               reduction_method = 'pca')\n",
    "fig.update_layout( title='pca Olfr counts')\n",
    "fig.show()\n",
    "# fig.write_html('../output/Blobel-14375/Olfr_pca.html')"
   ]
  },
  {
   "cell_type": "code",
   "execution_count": null,
   "metadata": {},
   "outputs": [],
   "source": []
  }
 ],
 "metadata": {
  "kernelspec": {
   "display_name": "Python 3",
   "language": "python",
   "name": "python3"
  },
  "language_info": {
   "codemirror_mode": {
    "name": "ipython",
    "version": 3
   },
   "file_extension": ".py",
   "mimetype": "text/x-python",
   "name": "python",
   "nbconvert_exporter": "python",
   "pygments_lexer": "ipython3",
   "version": "3.8.8"
  },
  "orig_nbformat": 4
 },
 "nbformat": 4,
 "nbformat_minor": 2
}
