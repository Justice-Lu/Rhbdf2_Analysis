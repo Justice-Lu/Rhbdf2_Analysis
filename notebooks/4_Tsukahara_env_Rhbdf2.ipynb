{
 "cells": [
  {
   "cell_type": "code",
   "execution_count": null,
   "metadata": {},
   "outputs": [],
   "source": [
    "import pandas as pd \n",
    "import numpy as np \n",
    "import matplotlib.pyplot as plt\n",
    "import plotly.express as px \n",
    "\n",
    "\n",
    "import anndata\n",
    "import scanpy as sc \n"
   ]
  },
  {
   "cell_type": "code",
   "execution_count": null,
   "metadata": {},
   "outputs": [],
   "source": [
    "adata = anndata.read_csv('../files/Tsukahara_2021/GSE173947_envA_timecourse_umi_counts.csv')\n",
    "meta = pd.read_csv('../files/Tsukahara_2021/GSE173947_envA_timecourse_metadata.csv', index_col = 0 )\n",
    "\n",
    "# Combine metadata \n",
    "adata.obs = adata.obs.merge(meta, left_index = True, \n",
    "                            right_index = True)\n",
    "# store a raw copy \n",
    "raw_adata = adata.copy()\n"
   ]
  },
  {
   "cell_type": "code",
   "execution_count": null,
   "metadata": {},
   "outputs": [],
   "source": [
    "adata"
   ]
  },
  {
   "attachments": {},
   "cell_type": "markdown",
   "metadata": {},
   "source": [
    "### TODO Tasks \n",
    "- identify the change in ORs expression across the change of environment\n",
    "- create category bins for up-regulated, no-change, and down-regulated via change of environment \n",
    "- Observe the change of Rhbdf2 and associated genes if there are consistent patterns across bins "
   ]
  },
  {
   "attachments": {},
   "cell_type": "markdown",
   "metadata": {},
   "source": [
    "#### Preprocessing"
   ]
  },
  {
   "cell_type": "code",
   "execution_count": null,
   "metadata": {},
   "outputs": [],
   "source": [
    "# Restart adata \n",
    "adata = raw_adata.copy()"
   ]
  },
  {
   "cell_type": "code",
   "execution_count": null,
   "metadata": {},
   "outputs": [],
   "source": [
    "# Basic preprocessing steps\n",
    "sc.pp.filter_cells(adata, min_genes=200)  # Filter cells with fewer than 200 expressed genes\n",
    "sc.pp.filter_genes(adata, min_cells=3)  # Filter genes expressed in fewer than 3 cells\n",
    "\n",
    "# Calculate QC metrics\n",
    "# SKIPPING mt filter as the data does not contain any mt genes \n",
    "# adata.var['mt'] = adata.var_names.str.startswith('MT-')  # annotate the group of mitochondrial genes as 'mt'\n",
    "sc.pp.calculate_qc_metrics(adata, percent_top=None, log1p=False, inplace=True)\n",
    "# sc.pl.violin(adata, ['n_genes_by_counts', 'total_counts', 'pct_counts_mt'],\n",
    "#              jitter=0.4, multi_panel=True) \n",
    "# Filter high mt cells \n",
    "# adata = adata[adata.obs.n_genes_by_counts < 2500, :]\n",
    "# adata = adata[adata.obs.pct_counts_mt < 5, :]\n",
    "\n",
    "# Normalize counts \n",
    "sc.pp.normalize_total(adata, target_sum=1e4)  # Normalize counts\n",
    "\n",
    "# log-transform\n",
    "# sc.pp.log1p(adata) \n",
    "\n",
    "# Scale the data\n",
    "# sc.pp.scale(adata, max_value=10)"
   ]
  },
  {
   "attachments": {},
   "cell_type": "markdown",
   "metadata": {},
   "source": [
    "#### Umap visualization"
   ]
  },
  {
   "cell_type": "code",
   "execution_count": null,
   "metadata": {},
   "outputs": [],
   "source": [
    "# Perform PCA\n",
    "sc.tl.pca(adata, svd_solver='arpack')\n",
    "\n",
    "sc.pp.neighbors(adata, n_neighbors=10, n_pcs=50)\n",
    "\n",
    "sc.tl.leiden(adata)\n",
    "\n",
    "# Perform UMAP\n",
    "sc.tl.paga(adata)\n",
    "sc.pl.paga(adata, plot=False)  # remove `plot=False` if you want to see the coarse-grained graph\n",
    "sc.tl.umap(adata, init_pos='paga')"
   ]
  },
  {
   "cell_type": "code",
   "execution_count": null,
   "metadata": {},
   "outputs": [],
   "source": [
    "# Plot UMAP\n",
    "sc.set_figure_params(figsize = [5,5], facecolor = 'white')\n",
    "sc.pl.umap(adata, color = ['source'], size = 10)"
   ]
  },
  {
   "cell_type": "code",
   "execution_count": null,
   "metadata": {},
   "outputs": [],
   "source": [
    "sc.pl.umap(adata, color = ['Rhbdf2', 'leiden'], size = 10)"
   ]
  },
  {
   "attachments": {},
   "cell_type": "markdown",
   "metadata": {},
   "source": [
    "#### Seperating clusters of differentially regulated ORs across environment change"
   ]
  },
  {
   "cell_type": "code",
   "execution_count": null,
   "metadata": {},
   "outputs": [],
   "source": [
    "from scipy.stats import ttest_ind\n",
    "\n",
    "def diff_across_variable(adata, \n",
    "                         diff_across = 'source',\n",
    "                         genes = []):\n",
    "\n",
    "    top_Olfr = [Olfr for Olfr in adata.obs.top_Olfr.unique() if 'Olfr' in Olfr]\n",
    "    \n",
    "    environments = adata.obs[diff_across].unique()\n",
    "\n",
    "    results = pd.DataFrame()\n",
    "    for i in range(len(environments)):\n",
    "        for j in range(i+1, len(environments)):\n",
    "            \n",
    "            env1 = environments[i]\n",
    "            env2 = environments[j]\n",
    "            \n",
    "            # Subset the data for the two sources\n",
    "            adata_subset = adata[adata.obs['source'].isin([env1, env2])].copy()\n",
    "            \n",
    "            # Filter genes based on the gene_subset\n",
    "            for Olfr in top_Olfr:\n",
    "                try: \n",
    "                    genes_to_compare = [Olfr] + genes\n",
    "                    # Subset the genes to selected Olfr\n",
    "                    adata_subset_Olfr = adata_subset[:, genes_to_compare]\n",
    "                    # Subset cells to selected Olfr \n",
    "                    adata_subset_Olfr = adata_subset_Olfr[(adata_subset_Olfr.obs.top_Olfr == Olfr)]\n",
    "                    \n",
    "                    # Check if Olfr is in present in both environments adata if not skip \n",
    "                    if not len(adata_subset_Olfr.obs.env.unique()) == 2:\n",
    "                        continue \n",
    "                    \n",
    "\n",
    "                    # Extract Olfr reads \n",
    "                    env1_genes = adata_subset_Olfr[adata_subset_Olfr.obs.source == env1].X\n",
    "                    env2_genes = adata_subset_Olfr[adata_subset_Olfr.obs.source == env2].X\n",
    "                    \n",
    "                    # Calculate the mean of Olfr expression across cells in different environment\n",
    "                    # env1_genes_mean = env1_genes.mean(axis = 0)\n",
    "                    # env2_genes_mean = env2_genes.mean(axis = 0)\n",
    "                    # Calculate fold change of mean Olfr expression between environments\n",
    "                    # foldchange = np.log(float(env1_genes_mean / env2_genes_mean))\n",
    "                    \n",
    "                    # Perform t-test, \n",
    "                    t_stat, p_value = ttest_ind(env1_genes, env2_genes)\n",
    "                    \n",
    "\n",
    "                    colname = []\n",
    "                    values = []\n",
    "                    for k, gene in enumerate(genes_to_compare):\n",
    "                        if 'Olfr' in gene: \n",
    "                            colname.append(\"Olfr_tstat\")\n",
    "                            colname.append(\"Olfr_pvalue\")\n",
    "                        else: \n",
    "                            colname.append(f\"{gene}_tstat\")\n",
    "                            colname.append(f\"{gene}_pvalue\")\n",
    "                        values.append(t_stat[k])\n",
    "                        values.append(p_value[k])\n",
    "                        \n",
    "                    # Store the result in a result df \n",
    "                    result_df = pd.DataFrame([[Olfr, f'{env1}_{env2}']], \n",
    "                                            columns=['Olfr', 'env_change'])\n",
    "                    result_df = pd.concat([result_df,\n",
    "                                            pd.DataFrame([values], columns = colname)], axis = 1)\n",
    "                    results = pd.concat([results, result_df])\n",
    "                except Exception as e: \n",
    "                    # print(e)\n",
    "                    # print(f'{Olfr} skipped')\n",
    "                    continue\n",
    "                    \n",
    "\n",
    "\n",
    "\n",
    "    return results\n",
    "\n",
    "# adata_subset_Olfr = adata_subset[:, 'Olfr1018']\n",
    "# adata_subset_Olfr = adata_subset_Olfr[(adata_subset_Olfr.obs.top_Olfr == 'Olfr1018')]\n"
   ]
  },
  {
   "cell_type": "code",
   "execution_count": null,
   "metadata": {},
   "outputs": [],
   "source": [
    "# Find gene expression difference across envirionments \n",
    "results = diff_across_variable(adata, \n",
    "                               genes = ['Rhbdf2', 'S100a5'])\n",
    "\n",
    "# Filter out Olfr present in only one cell \n",
    "results = results[~np.isnan(results['Olfr_tstat'])]"
   ]
  },
  {
   "cell_type": "code",
   "execution_count": null,
   "metadata": {},
   "outputs": [],
   "source": [
    "# # Creating bins of identifiers for Olfr across environment change \n",
    "results['Olfr_change'] = 'no_change'\n",
    "results.loc[(results['Olfr_tstat']> 2) & (results['Olfr_pvalue'] < 0.05), 'Olfr_change'] = 'up_regulated'\n",
    "results.loc[(results['Olfr_tstat']< 2) & (results['Olfr_pvalue'] < 0.05), 'Olfr_change'] = 'down_regulated'\n",
    "results['Olfr_change'].hist()"
   ]
  },
  {
   "cell_type": "code",
   "execution_count": null,
   "metadata": {},
   "outputs": [],
   "source": [
    "results[results.Olfr_change == 'up_regulated'].Rhbdf2_tstat.hist()"
   ]
  },
  {
   "cell_type": "code",
   "execution_count": null,
   "metadata": {},
   "outputs": [],
   "source": [
    "# Save csv\n",
    "# results.to_csv('../output/nb_4/results.csv')\n",
    "# Read csv \n",
    "results = pd.read_csv('../output/nb_4/results.csv', index_col = 0)"
   ]
  },
  {
   "cell_type": "code",
   "execution_count": null,
   "metadata": {},
   "outputs": [],
   "source": [
    "# Quickly visualize the t_stat (statistcial difference) between change of environment \n",
    "\n",
    "\n",
    "plot_data = results.copy()\n",
    "plot_data = plot_data[plot_data['env_change'].isin(['baseline-overnight_envA-45m',\n",
    "                                                    'baseline-overnight_envA-2h',\n",
    "                                                    'baseline-overnight_envA-24h',\n",
    "                                                    'baseline-overnight_envA-5d',\n",
    "                                                    'baseline-overnight_1ON-envA2w'])]\n",
    "\n",
    "plot_data = plot_data.groupby('env_change')\n",
    "\n",
    "# Create a figure and axis object for the plot\n",
    "fig, ax = plt.subplots()\n",
    "# Iterate over the grouped data and plot histograms with different colors\n",
    "for category, group in plot_data:\n",
    "    ax.hist(group['Olfr_tstat'], bins=100, alpha=0.5, label=str(category))\n",
    "# Add labels and legend to the plot\n",
    "ax.set_xlabel('Olfr_stat')\n",
    "ax.set_ylabel('Frequency')\n",
    "ax.legend(title='env_change')\n",
    "\n",
    "# Show the plot\n",
    "plt.show()"
   ]
  },
  {
   "cell_type": "code",
   "execution_count": null,
   "metadata": {},
   "outputs": [],
   "source": [
    "# Plot to visualize the foldchange and pvalue \n",
    "\n",
    "plot_by = 'Olfr'\n",
    "\n",
    "plot_data = results.copy()\n",
    "fig = px.scatter(x = plot_data[plot_by+'_tstat'], \n",
    "                 y = -np.log(plot_data[plot_by+'_pvalue']), \n",
    "                 color = plot_data['env_change'], \n",
    "                 hover_name = plot_data['Olfr'],\n",
    "                 opacity = 0.5)\n",
    "fig.add_hline(y=-np.log(0.05), \n",
    "              line_width = 3, \n",
    "              line_dash = 'dash')\n",
    "fig.update_layout(\n",
    "    title=f\"Foldchange of {plot_by} expression counts across env_change\",\n",
    "    xaxis_title=\"t-statistic\",\n",
    "    yaxis_title=\"-log(p_value)\",\n",
    "    autosize=False,\n",
    "    width=700,\n",
    "    height=500,\n",
    "    template = 'simple_white'\n",
    ")\n",
    "fig.show()\n",
    "# fig.write_html('../output/nb_4/plots/Vol_Olfr_tstat_env_change.html')\n",
    "# fig.write_html('../output/nb_4/plots/Vol_S100a5_tstat_env_change.html')"
   ]
  },
  {
   "cell_type": "code",
   "execution_count": null,
   "metadata": {},
   "outputs": [],
   "source": [
    "results"
   ]
  },
  {
   "cell_type": "code",
   "execution_count": null,
   "metadata": {},
   "outputs": [],
   "source": [
    "adata.obs"
   ]
  },
  {
   "cell_type": "code",
   "execution_count": null,
   "metadata": {},
   "outputs": [],
   "source": []
  },
  {
   "cell_type": "code",
   "execution_count": null,
   "metadata": {},
   "outputs": [],
   "source": []
  }
 ],
 "metadata": {
  "kernelspec": {
   "display_name": "scanpy",
   "language": "python",
   "name": "python3"
  },
  "language_info": {
   "codemirror_mode": {
    "name": "ipython",
    "version": 3
   },
   "file_extension": ".py",
   "mimetype": "text/x-python",
   "name": "python",
   "nbconvert_exporter": "python",
   "pygments_lexer": "ipython3",
   "version": "3.8.12"
  },
  "orig_nbformat": 4
 },
 "nbformat": 4,
 "nbformat_minor": 2
}
