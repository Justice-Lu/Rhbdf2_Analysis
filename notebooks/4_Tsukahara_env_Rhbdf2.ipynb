{
 "cells": [
  {
   "cell_type": "code",
   "execution_count": null,
   "metadata": {},
   "outputs": [],
   "source": [
    "import pandas as pd \n",
    "import numpy as np \n",
    "\n",
    "import anndata\n",
    "import scanpy as sc \n"
   ]
  },
  {
   "cell_type": "code",
   "execution_count": null,
   "metadata": {},
   "outputs": [],
   "source": [
    "adata = anndata.read_csv('../files/Tsukahara_2021/GSE173947_envA_bidirectional_switch_umi_counts.csv')\n",
    "meta = pd.read_csv('../files/Tsukahara_2021/GSE173947_envA_bidirectional_switch_metadata.csv', index_col = 0 )\n",
    "\n",
    "# Combine metadata \n",
    "adata.obs = adata.obs.merge(meta, left_index = True, \n",
    "                            right_index = True)"
   ]
  },
  {
   "attachments": {},
   "cell_type": "markdown",
   "metadata": {},
   "source": [
    "### TODO Tasks \n",
    "- identify the change in ORs expression across the change of environment\n",
    "- create category bins for up-regulated, no-change, and down-regulated via change of environment \n",
    "- Observe the change of Rhbdf2 and associated genes if there are consistent patterns across bins "
   ]
  },
  {
   "cell_type": "code",
   "execution_count": null,
   "metadata": {},
   "outputs": [],
   "source": [
    "# Basic preprocessing steps\n",
    "sc.pp.filter_cells(adata, min_genes=200)  # Filter cells with fewer than 200 expressed genes\n",
    "sc.pp.filter_genes(adata, min_cells=3)  # Filter genes expressed in fewer than 3 cells\n",
    "\n",
    "# Calculate QC metrics\n",
    "sc.pp.calculate_qc_metrics(adata, inplace=True)\n",
    "\n",
    "# Normalize counts and log-transform\n",
    "sc.pp.normalize_total(adata, target_sum=1e4)  # Normalize counts\n",
    "# sc.pp.log1p(adata) "
   ]
  },
  {
   "cell_type": "code",
   "execution_count": null,
   "metadata": {},
   "outputs": [],
   "source": [
    "# Identify highly variable genes\n",
    "# sc.pp.highly_variable_genes(adata, flavor='seurat', n_top_genes=2000)\n",
    "\n",
    "# # Plot highly variable genes\n",
    "# sc.pl.highly_variable_genes(adata)\n",
    "\n",
    "# # Filter the data based on highly variable genes\n",
    "# adata = adata[:, adata.var['highly_variable']] "
   ]
  },
  {
   "cell_type": "code",
   "execution_count": null,
   "metadata": {},
   "outputs": [],
   "source": [
    "# Scale the data\n",
    "sc.pp.scale(adata, max_value=10)\n",
    "\n",
    "# Perform PCA\n",
    "sc.tl.pca(adata, svd_solver='arpack')\n",
    "\n",
    "# Perform UMAP\n",
    "sc.pp.neighbors(adata, n_neighbors=10, n_pcs=50)\n",
    "sc.tl.umap(adata)"
   ]
  },
  {
   "cell_type": "code",
   "execution_count": null,
   "metadata": {},
   "outputs": [],
   "source": [
    "# Plot UMAP\n",
    "sc.set_figure_params(figsize = [5,5], facecolor = 'white')\n",
    "sc.pl.umap(adata, color = 'source', size = 10)"
   ]
  },
  {
   "cell_type": "code",
   "execution_count": null,
   "metadata": {},
   "outputs": [],
   "source": [
    "sc.pl.umap(adata, color = ['Rhbdf2', 'leiden'], size = 10)"
   ]
  },
  {
   "cell_type": "code",
   "execution_count": null,
   "metadata": {},
   "outputs": [],
   "source": [
    "env_cellindex = {}\n",
    "for env in environments: \n",
    "    env_cellindex[env] = [adata.obs[adata.obs.source == env].index]"
   ]
  },
  {
   "cell_type": "code",
   "execution_count": null,
   "metadata": {},
   "outputs": [],
   "source": [
    "adata[(adata.obs.top_Olfr == 'Olfr1377') & (adata.obs.source == env)].var"
   ]
  },
  {
   "cell_type": "code",
   "execution_count": null,
   "metadata": {},
   "outputs": [],
   "source": [
    "top_Olfr = [Olfr for Olfr in adata.obs.top_Olfr.unique() if 'Olfr' in Olfr]\n",
    "\n",
    "results = pd.DataFrame()\n",
    "\n",
    "for i in range(len(environments)):\n",
    "    for j in range(i+1, len(environments)):\n",
    "        \n",
    "        env1 = environments[i]\n",
    "        env2 = environments[j]\n",
    "        \n",
    "        # Subset the data for the two sources\n",
    "        adata_subset = adata[adata.obs['source'].isin([env1, env2])].copy()\n",
    "        \n",
    "        # Filter genes based on the gene_subset\n",
    "        for Olfr in top_Olfr:\n",
    "            try: \n",
    "                # Subset the genes to selected Olfr\n",
    "                adata_subset_Olfr = adata_subset[:, Olfr]\n",
    "                # Subset cells to selected Olfr \n",
    "                adata_subset_Olfr = adata_subset_Olfr[(adata_subset_Olfr.obs.top_Olfr == Olfr)]\n",
    "                \n",
    "                # Check if Olfr is in present in both environments adata if not skip \n",
    "                if not len(adata_subset_Olfr.obs.env.unique()) == 2:\n",
    "                    continue \n",
    "                \n",
    "                # Calculate the mean of Olfr expression across cells in different environment\n",
    "                env1_Olfr_mean = adata_subset_Olfr[adata_subset_Olfr.obs.source == env1].X.mean()\n",
    "                env2_Olfr_mean = adata_subset_Olfr[adata_subset_Olfr.obs.source == env2].X.mean()\n",
    "                # Calculate fold change of mean Olfr expression between environments\n",
    "                foldchange = float(env1_Olfr_mean / env2_Olfr_mean)\n",
    "                # Store the result in a result df \n",
    "                result_df = pd.DataFrame([[Olfr, env1, env2, foldchange]], \n",
    "                                        columns=['Olfr', 'env1', 'env2', 'FoldChange'])\n",
    "                results = pd.concat([results, result_df])\n",
    "            except: \n",
    "                # print(f'{Olfr} skipped')\n",
    "                continue \n",
    "            \n",
    "        \n",
    "        break\n",
    "    break\n",
    "\n",
    "\n"
   ]
  },
  {
   "cell_type": "code",
   "execution_count": null,
   "metadata": {},
   "outputs": [],
   "source": [
    "len(adata_subset_Olfr.obs.env.unique())"
   ]
  },
  {
   "cell_type": "code",
   "execution_count": null,
   "metadata": {},
   "outputs": [],
   "source": [
    "adata_subset_Olfr"
   ]
  },
  {
   "cell_type": "code",
   "execution_count": null,
   "metadata": {},
   "outputs": [],
   "source": [
    "adata_subset_Olfr = adata_subset[:, 'Olfr58']\n",
    "adata_subset_Olfr = adata_subset_Olfr[(adata_subset_Olfr.obs.top_Olfr == 'Olfr58')]\n"
   ]
  },
  {
   "cell_type": "code",
   "execution_count": null,
   "metadata": {},
   "outputs": [],
   "source": [
    "adata_subset_Olfr.obs"
   ]
  },
  {
   "cell_type": "code",
   "execution_count": null,
   "metadata": {},
   "outputs": [],
   "source": [
    "adata_subset[(adata_subset.obs.source == env2) & \n",
    "             (adata_subset.obs.top_Olfr == 'Olfr114')].X"
   ]
  },
  {
   "cell_type": "code",
   "execution_count": null,
   "metadata": {},
   "outputs": [],
   "source": [
    "(adata_subset_Olfr.shape[1] <= 1) | (adata_subset_Olfr.shape[0] <= 1)"
   ]
  },
  {
   "cell_type": "code",
   "execution_count": null,
   "metadata": {},
   "outputs": [],
   "source": [
    "adata_subset_Olfr"
   ]
  },
  {
   "cell_type": "code",
   "execution_count": null,
   "metadata": {},
   "outputs": [],
   "source": []
  }
 ],
 "metadata": {
  "kernelspec": {
   "display_name": "scanpy",
   "language": "python",
   "name": "python3"
  },
  "language_info": {
   "codemirror_mode": {
    "name": "ipython",
    "version": 3
   },
   "file_extension": ".py",
   "mimetype": "text/x-python",
   "name": "python",
   "nbconvert_exporter": "python",
   "pygments_lexer": "ipython3",
   "version": "3.8.12"
  },
  "orig_nbformat": 4
 },
 "nbformat": 4,
 "nbformat_minor": 2
}
