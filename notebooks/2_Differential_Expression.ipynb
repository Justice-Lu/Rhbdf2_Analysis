{
 "cells": [
  {
   "cell_type": "code",
   "execution_count": 1,
   "id": "62a6cf51",
   "metadata": {},
   "outputs": [
    {
     "name": "stderr",
     "output_type": "stream",
     "text": [
      "── \u001b[1mAttaching packages\u001b[22m ──────────────────────────────────────────────────────────────────────────────────── tidyverse 1.3.2 ──\n",
      "\u001b[32m✔\u001b[39m \u001b[34mggplot2\u001b[39m 3.4.1     \u001b[32m✔\u001b[39m \u001b[34mpurrr  \u001b[39m 1.0.1\n",
      "\u001b[32m✔\u001b[39m \u001b[34mtibble \u001b[39m 3.1.8     \u001b[32m✔\u001b[39m \u001b[34mdplyr  \u001b[39m 1.1.0\n",
      "\u001b[32m✔\u001b[39m \u001b[34mtidyr  \u001b[39m 1.3.0     \u001b[32m✔\u001b[39m \u001b[34mstringr\u001b[39m 1.5.0\n",
      "\u001b[32m✔\u001b[39m \u001b[34mreadr  \u001b[39m 2.1.4     \u001b[32m✔\u001b[39m \u001b[34mforcats\u001b[39m 1.0.0\n",
      "── \u001b[1mConflicts\u001b[22m ─────────────────────────────────────────────────────────────────────────────────────── tidyverse_conflicts() ──\n",
      "\u001b[31m✖\u001b[39m \u001b[34mdplyr\u001b[39m::\u001b[32mfilter()\u001b[39m masks \u001b[34mstats\u001b[39m::filter()\n",
      "\u001b[31m✖\u001b[39m \u001b[34mdplyr\u001b[39m::\u001b[32mlag()\u001b[39m    masks \u001b[34mstats\u001b[39m::lag()\n",
      "Loading required package: limma\n",
      "\n"
     ]
    }
   ],
   "source": [
    "library(tidyverse)\n",
    "library(edgeR)\n",
    "library(stringr)"
   ]
  },
  {
   "cell_type": "code",
   "execution_count": 3,
   "id": "389a001c",
   "metadata": {},
   "outputs": [],
   "source": [
    "setwd(\"/data/jlu/Rhbdf2_Analysis/notebooks/\")\n",
    "geneID_info <- read.delim(\"./preprocessing/eID_sym_name.csv\", header=T, sep=',')\n",
    "geneID_info <- geneID_info[,c(2,3,5)]\n",
    "colnames(geneID_info) <- c(\"ensembl_gene_id\",\"symbol\",\"name\")\n",
    "# Remove duplicated gene symbols. Since some gene symbols are matched to multiple ensemble_id\n",
    "geneID_info <- geneID_info[!duplicated(geneID_info$symbol),] "
   ]
  },
  {
   "cell_type": "code",
   "execution_count": 7,
   "id": "bae5b3fa",
   "metadata": {},
   "outputs": [],
   "source": [
    "#Load in expected counts table\n",
    "Blobel_expectedCountsTable <- read.delim('./preprocessing/Blobel_counts_CompiledExpectedCounts_allGene.csv', sep = ',', \n",
    "          row.names = 1)\n",
    "meta_ST3 <- data.frame(FileName=c(\"No1\",\"No2\",\"No3\",\"ST1\",\"ST2\",\"ST3\"),\n",
    "                       Subject=c(\"A\",\"B\",\"C\",\"A\",\"B\",\"C\"),\n",
    "                       Treatment=c(0,0,0,1,1,1))"
   ]
  },
  {
   "cell_type": "code",
   "execution_count": 33,
   "id": "b0b02d39",
   "metadata": {},
   "outputs": [],
   "source": [
    "# Generate countable for individual experiment \n",
    "Blobel_countsTable_WTvsiRhom2 <- round(data.frame(\n",
    "    No1=Blobel_expectedCountsTable$WT1_S1_L001, \n",
    "    No2=Blobel_expectedCountsTable$WT2_S2_L001, \n",
    "    No3=Blobel_expectedCountsTable$WT3_S3_L001, \n",
    "    St1=Blobel_expectedCountsTable$KO1_S4_L001,\n",
    "    St2=Blobel_expectedCountsTable$KO2_S5_L001,\n",
    "    St3=Blobel_expectedCountsTable$KO3_S6_L001,\n",
    "    row.names=rownames(Blobel_expectedCountsTable)\n",
    "    ))\n"
   ]
  },
  {
   "cell_type": "code",
   "execution_count": 5,
   "id": "4b7fb9c7",
   "metadata": {},
   "outputs": [],
   "source": [
    "# Define DE functions\n",
    "DiffExp <- function (targets, countsTable) {\n",
    "    Treat <- factor(targets$Treatment);Subject <- factor(targets$Subject);design <- model.matrix(~Subject+Treat)\n",
    "    e.litter <- DGEList(counts=countsTable)\n",
    "    e.litter <- estimateGLMCommonDisp(e.litter,design)\n",
    "    e.litter <- estimateGLMTrendedDisp(e.litter,design)\n",
    "    e.litter <- estimateGLMTagwiseDisp(e.litter,design)\n",
    "    fit <- glmFit(e.litter, design);lrt <- glmLRT(fit);diff <- topTags(lrt,n=dim(lrt)[1])$table\n",
    "    result <- merge(diff,countsTable,by=0,sort=F)\n",
    "    colnames(result)[1] <- \"ensembl_gene_id\"\n",
    "    return(result)\n",
    "}\n",
    "\n",
    "DiffExp_compile <- function(targets, countsTable) {\n",
    "    allGene_DE <- DiffExp(targets, countsTable)\n",
    "    allGene_DE <- left_join(allGene_DE, geneID_info, by = \"ensembl_gene_id\")\n",
    "    return(allGene_DE)\n",
    "}\n",
    "\n"
   ]
  },
  {
   "cell_type": "code",
   "execution_count": null,
   "id": "c1cc5bfb",
   "metadata": {},
   "outputs": [],
   "source": [
    "DE_WTvsiRhom2 <- DiffExp_compile(meta_ST3, Blobel_countsTable_WTvsiRhom2)\n",
    "write.csv(DE_WTvsiRhom2, \"../DE_out/DE_allgene_WTvsiRhom2.csv\")"
   ]
  },
  {
   "cell_type": "code",
   "execution_count": 42,
   "id": "824a2a0b",
   "metadata": {},
   "outputs": [],
   "source": [
    "# DE by Olfr only by filtering for \"Olfr\" and adjusting pValue\n",
    "subset_olfr <- function(df){\n",
    "    df <- df[grep(\"^Olfr\", df$symbol),]\n",
    "#     df <- df[-grep(\"-ps\", df$symbol),]\n",
    "    df$FDR <- p.adjust(df$PValue, method='fdr')\n",
    "    return(df)\n",
    "}\n",
    "\n",
    "de_df <- read.delim('../DE_out/DE_allgene_WTvsiRhom2.csv', \n",
    "           sep=',', header=T, row.names=1)\n",
    "olfrOnly_df <- subset_olfr(de_df)\n",
    "write.csv(olfrOnly_df, \"../DE_out/DE_Olfr_WTvsiRhom2.csv\")"
   ]
  },
  {
   "cell_type": "code",
   "execution_count": 40,
   "id": "01c17a58",
   "metadata": {},
   "outputs": [
    {
     "data": {
      "text/plain": [
       "R version 4.2.2 Patched (2022-11-10 r83330)\n",
       "Platform: x86_64-pc-linux-gnu (64-bit)\n",
       "Running under: Ubuntu 20.04.5 LTS\n",
       "\n",
       "Matrix products: default\n",
       "BLAS:   /usr/lib/x86_64-linux-gnu/blas/libblas.so.3.9.0\n",
       "LAPACK: /usr/lib/x86_64-linux-gnu/lapack/liblapack.so.3.9.0\n",
       "\n",
       "locale:\n",
       " [1] LC_CTYPE=en_US.UTF-8       LC_NUMERIC=C              \n",
       " [3] LC_TIME=en_US.UTF-8        LC_COLLATE=en_US.UTF-8    \n",
       " [5] LC_MONETARY=en_US.UTF-8    LC_MESSAGES=en_US.UTF-8   \n",
       " [7] LC_PAPER=en_US.UTF-8       LC_NAME=C                 \n",
       " [9] LC_ADDRESS=C               LC_TELEPHONE=C            \n",
       "[11] LC_MEASUREMENT=en_US.UTF-8 LC_IDENTIFICATION=C       \n",
       "\n",
       "attached base packages:\n",
       "[1] stats     graphics  grDevices utils     datasets  methods   base     \n",
       "\n",
       "other attached packages:\n",
       " [1] edgeR_3.40.2    limma_3.54.1    forcats_1.0.0   stringr_1.5.0  \n",
       " [5] dplyr_1.1.0     purrr_1.0.1     readr_2.1.4     tidyr_1.3.0    \n",
       " [9] tibble_3.1.8    ggplot2_3.4.1   tidyverse_1.3.2\n",
       "\n",
       "loaded via a namespace (and not attached):\n",
       " [1] Rcpp_1.0.10         locfit_1.5-9.7      lattice_0.20-45    \n",
       " [4] lubridate_1.9.2     assertthat_0.2.1    digest_0.6.31      \n",
       " [7] utf8_1.2.3          IRdisplay_1.1       R6_2.5.1           \n",
       "[10] cellranger_1.1.0    repr_1.1.6          backports_1.4.1    \n",
       "[13] reprex_2.0.2        evaluate_0.20       httr_1.4.4         \n",
       "[16] pillar_1.8.1        rlang_1.0.6         googlesheets4_1.0.1\n",
       "[19] uuid_1.1-0          readxl_1.4.2        googledrive_2.0.0  \n",
       "[22] munsell_0.5.0       broom_1.0.3         compiler_4.2.2     \n",
       "[25] modelr_0.1.10       pkgconfig_2.0.3     base64enc_0.1-3    \n",
       "[28] htmltools_0.5.4     tidyselect_1.2.0    fansi_1.0.4        \n",
       "[31] crayon_1.5.2        tzdb_0.3.0          dbplyr_2.3.0       \n",
       "[34] withr_2.5.0         grid_4.2.2          jsonlite_1.8.4     \n",
       "[37] gtable_0.3.1        lifecycle_1.0.3     DBI_1.1.3          \n",
       "[40] magrittr_2.0.3      scales_1.2.1        cli_3.6.0          \n",
       "[43] stringi_1.7.12      fs_1.6.1            xml2_1.3.3         \n",
       "[46] ellipsis_0.3.2      generics_0.1.3      vctrs_0.5.2        \n",
       "[49] IRkernel_1.3.2      tools_4.2.2         glue_1.6.2         \n",
       "[52] hms_1.1.2           fastmap_1.1.0       timechange_0.2.0   \n",
       "[55] colorspace_2.1-0    gargle_1.3.0        rvest_1.0.3        \n",
       "[58] pbdZMQ_0.3-9        haven_2.5.1        "
      ]
     },
     "metadata": {},
     "output_type": "display_data"
    }
   ],
   "source": [
    "sessionInfo()"
   ]
  }
 ],
 "metadata": {
  "kernelspec": {
   "display_name": "R",
   "language": "R",
   "name": "ir"
  },
  "language_info": {
   "codemirror_mode": "r",
   "file_extension": ".r",
   "mimetype": "text/x-r-source",
   "name": "R",
   "pygments_lexer": "r",
   "version": "4.2.2"
  }
 },
 "nbformat": 4,
 "nbformat_minor": 5
}
